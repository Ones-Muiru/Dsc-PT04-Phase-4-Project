{
 "cells": [
  {
   "cell_type": "markdown",
   "metadata": {},
   "source": [
    "  #                                                    FASHION CLOTHING RECOMMENDER SYSTEM"
   ]
  },
  {
   "cell_type": "markdown",
   "metadata": {},
   "source": [
    "Group members:\n",
    "\n",
    "*  Onesphoro Kibunja\n",
    "*  Bernadette Wanjiku Nganga\n",
    "*  Caleb Ochieng"
   ]
  },
  {
   "cell_type": "raw",
   "metadata": {},
   "source": [
    "TABLE OF CONTENTS ***to be finished"
   ]
  },
  {
   "cell_type": "markdown",
   "metadata": {},
   "source": [
    "# 1. Introduction\n",
    "\n",
    "\n",
    "     1.1 Background\n",
    "     1.2 Business Understanding\n",
    "     1.3 Data Understanding\n",
    "     1.4 Significance of the Recommendation System\n",
    "\n",
    "2. Data Exploration and Preprocessing\n",
    "\n",
    "\n",
    "    2.1 Overview of the Dataset\n",
    "    2.2 Data Cleaning\n",
    "    2.2.1 Handling Missing Values\n",
    "    2.2.2 Data Conversion\n",
    "    2.2.3 Removing Duplicates\n",
    "    2.3 Exploratory Data Analysis (EDA)\n",
    "    2.3.1 Descriptive Statistics\n",
    "    2.3.2 Data Visualization\n",
    "\n",
    "3. Feature Engineering\n",
    "\n",
    "    3.1 Transforming 'review_date'\n",
    "    3.1.1  Encoding Categorical Variables\n",
    "    3.1.2  One-Hot Encoding\n",
    "    3.2 Label Encoding\n",
    "  \n",
    "\n",
    "4. Building the Recommendation System\n",
    "\n",
    "\n",
    "    4.1 Choosing a Recommendation Algorithm\n",
    "    4.1.1 Collaborative Filtering\n",
    "    4.1.2 Content-Based Filtering\n",
    "    4.1.3 Hybrid Models\n",
    "    4.2 Model Training\n",
    "    4.2.1 Splitting the Dataset into Training and Testing Sets\n",
    "    4.2.2 Training the Chosen Algorithm(s)\n",
    "\n",
    "5. Evaluation of the Recommendation System\n",
    "\n",
    "\n",
    "    5.1 Metrics for Evaluation\n",
    "    5.1.1 Accuracy\n",
    "    5.1.2 Precision and Recall\n",
    "    5.1.3 F1 Score\n",
    "    5.2 Cross-Validation\n",
    "    5.3 Fine-Tuning the Model\n",
    "\n",
    "6. Results and Discussion\n",
    "\n",
    "\n",
    "\n",
    "    6.1 Presentation of Results\n",
    "    6.2 Comparison with Baseline Models\n",
    "    6.3 Discussion on Model Performance\n",
    "\n",
    "7. Challenges and Limitations\n",
    "\n",
    "\n",
    "    7.1 Challenges Encountered\n",
    "    7.2 Limitations of the Recommendation System\n",
    "    7.3 Areas for Future Improvement\n",
    "\n",
    "8. Conclusion\n",
    "\n",
    "\n",
    "\n",
    "    8.1 Summary of Findings\n",
    "    8.2 Implications of the Recommendation System\n",
    "\n",
    "9. References\n",
    "\n",
    "    9.1 Data Sources\n"
   ]
  },
  {
   "cell_type": "markdown",
   "metadata": {},
   "source": [
    "# Introduction\n",
    "\n",
    "Clothing, not only is a basic necesscity, it has evolved into somewhat an expression of one's character. In this day and age of the internet, we have a multitude and somewhat overwhelming number of choices for clothing. We want something stylish, something recent, something good to look at and most of all something comfortable to wear in different occasions. It is very hard to find something that ticks all these boxes due to the sheer number of clothing available.The difficulty in obtaining the right fit stems from a combination of individual body diversity, subjective preferences, and the variability in sizing across different brands and styles. No one has time to comb the internet for hours just to find this one piece of clothing and thus most people end up settling for second best or what is readily avialable.\n",
    "\n",
    "This is where a fashion recommender system comes in. To make work easier for the consumer. \n",
    "\n",
    "\n",
    "\n",
    "# Business Understanding\n",
    "\n",
    "The **problem statement** -as has been touched on above- is that in the dynamic and vast landscape of fashion, customers often find it challenging to discover styles that resonate with their preferences. This leads to a less satisfying shopping experience and potential missed opportunities for fashion retailers.\n",
    "\n",
    "Our goal is to create a personalized recommender system using the Rent the Runway dataset, which will enhance the customer experience by providing tailored fashion recommendations. This not only improves user satisfaction but also increases the likelihood of repeat business for fashion retailers.\n",
    "\n",
    "In the highly competitive fashion industry, understanding and meeting customer preferences is crucial for retaining and attracting customers. A recommender system can significantly boost user engagement, leading to increased customer satisfaction, loyalty, and ultimately, improved revenue for fashion retailers.\n",
    "\n",
    "We want to harnes the insights from these features and thus our project aims to create a dynamic engine that evolves with user feedback, ensuring recommendations stay relevant and tailored to individual preferences. The ultimate goal is to elevate user satisfaction and engagement within the RentTheRunway platform, providing a curated and enjoyable fashion discovery journey\n",
    "\n",
    "## Objectives\n",
    "1. **Developing a recommender system Fashion retailers can give their customers to use to ease the process of choosing outfits to get.**\n",
    "2. **Improve the shoping experience for customers by making it more personalized. The beter the experience the higher the chance of customer retention.**\n",
    "3. **Check if there are any underlying trends in terms of customer choices and other features in the data.**\n",
    "4. **Understand people's physical features so as to guide as to whaat kind of clothing to make.**\n"
   ]
  },
  {
   "cell_type": "markdown",
   "metadata": {},
   "source": [
    "## Data Understanding\n",
    "\n",
    "The dataset has 192,544 rows and 15 columns.\n",
    "Here is a brief data understanding for each column in the provided dataset:\n",
    "\n",
    "1. `fit`:\n",
    "\n",
    "Description: Indicates the fit category of the clothing item.\n",
    "\n",
    "\n",
    "\n",
    "**Insight**: Categorizes whether the clothing item fits well, providing information on user satisfaction with the fit.\n",
    "\n",
    "2. `user_id`:\n",
    "\n",
    "Description: Unique identifier for each user.\n",
    "\n",
    "\n",
    "\n",
    "\n",
    "**Insight**: A reference to distinguish and associate each review with a specific user.\n",
    "\n",
    "3. `bust size`:\n",
    "\n",
    "Description: Specifies the bust size of the user.\n",
    "\n",
    "\n",
    "\n",
    "\n",
    "**Insight**: Offers information on the user's body measurements, contributing to the understanding of fit preferences.\n",
    "\n",
    "4. `item_id`:\n",
    "\n",
    "Description: Unique identifier for each clothing item.\n",
    "\n",
    "\n",
    "\n",
    "**Insight**: Allows tracking and referencing of individual clothing items in the dataset.\n",
    "\n",
    "5. `weight`:\n",
    "\n",
    "Description: Specifies the weight of the user.\n",
    "\n",
    "\n",
    "\n",
    "\n",
    "**Insight**: Provides additional user body information that may influence the fit and preferences.\n",
    "\n",
    "6. `rating`:\n",
    "\n",
    "Description: User-provided rating for the rented clothing item.\n",
    "\n",
    "\n",
    "\n",
    "\n",
    "**Insight**: Quantifies user satisfaction with the rented item, contributing to overall system performance evaluation.\n",
    "\n",
    "7. `rented for`:\n",
    "\n",
    "Description: Describes the occasion for which the clothing item was rented.\n",
    "\n",
    "\n",
    "\n",
    "\n",
    "\n",
    "**Insight**: Gives context to user preferences based on different occasions.\n",
    "\n",
    "8. `review_text`:\n",
    "\n",
    "Description: Textual review provided by the user.\n",
    "\n",
    "\n",
    "\n",
    "**Insight**: Qualitative feedback offering detailed insights into the user's experience with the rented item.\n",
    "\n",
    "9. `body type`:\n",
    "\n",
    "Description: Describes the body type of the user.\n",
    "\n",
    "\n",
    "\n",
    "**Insight**: Additional information on the user's body shape, contributing to understanding fit preferences.\n",
    "\n",
    "10. `review_summary`:\n",
    "\n",
    "Description: Concise summary of the user's review.\n",
    "\n",
    "\n",
    "\n",
    "**Insight**: Provides a quick overview of the user's sentiment or key points regarding the rented item.\n",
    "\n",
    "11. `category`:\n",
    "\n",
    "Description: Specifies the category of the clothing item (e.g., gown, sheath, dress).\n",
    "\n",
    "\n",
    "\n",
    "**Insight**: Helps categorize and organize clothing items for analysis and recommendations.\n",
    "\n",
    "12. `height`:\n",
    "\n",
    "Description: Specifies the height of the user.\n",
    "\n",
    "\n",
    "\n",
    "**Insight**: Additional information on the user's body proportions, contributing to understanding fit preferences.\n",
    "\n",
    "13. `size`:\n",
    "\n",
    "Description: Specifies the size of the clothing item.\n",
    "\n",
    "\n",
    "\n",
    "\n",
    "**Insight**: Indicates the size of the rented item, which is crucial for fit evaluation.\n",
    "\n",
    "14. `age`:\n",
    "\n",
    "Description: Specifies the age of the user.\n",
    "\n",
    "\n",
    "\n",
    "**Insight**: Information on the user's age may contribute to understanding style preferences and fit expectations.\n",
    "\n",
    "15. `review_date`:\n",
    "\n",
    "Description: Date when the review was submitted.\n",
    "\n",
    "\n",
    "\n",
    "**Insight**: Temporal information that allows tracking reviews over time and analyzing trends in user feedback."
   ]
  },
  {
   "cell_type": "markdown",
   "metadata": {},
   "source": [
    "# 2. Data Exploration and Preprocessing"
   ]
  },
  {
   "cell_type": "markdown",
   "metadata": {},
   "source": [
    "2.1 Overview of the Dataset"
   ]
  },
  {
   "cell_type": "markdown",
   "metadata": {},
   "source": [
    "We start by opening the dataset and just have an overal view and check basic info  such as shape, column names, data type among others so as to give us a better understanding on how we will have to clean it."
   ]
  },
  {
   "cell_type": "code",
   "execution_count": 1,
   "metadata": {},
   "outputs": [],
   "source": [
    "# Importing necessary modules\n",
    "import pandas as pd\n",
    "import numpy as np\n",
    "import matplotlib.pyplot as plt\n",
    "import seaborn as sns\n",
    "import gzip"
   ]
  },
  {
   "cell_type": "code",
   "execution_count": 2,
   "metadata": {},
   "outputs": [],
   "source": [
    "#Checking the dataset\n",
    "\n",
    "# Specify the path to your compressed JSON file\n",
    "json_file_path = 'renttherunway_final_data.json.gz'\n",
    "\n",
    "# Open the compressed JSON file using gzip and load it into a Pandas DataFrame\n",
    "with gzip.open(json_file_path, 'rt') as f:\n",
    "    df = pd.read_json(f, lines=True)"
   ]
  },
  {
   "cell_type": "code",
   "execution_count": 3,
   "metadata": {},
   "outputs": [
    {
     "data": {
      "text/html": [
       "<div>\n",
       "<style scoped>\n",
       "    .dataframe tbody tr th:only-of-type {\n",
       "        vertical-align: middle;\n",
       "    }\n",
       "\n",
       "    .dataframe tbody tr th {\n",
       "        vertical-align: top;\n",
       "    }\n",
       "\n",
       "    .dataframe thead th {\n",
       "        text-align: right;\n",
       "    }\n",
       "</style>\n",
       "<table border=\"1\" class=\"dataframe\">\n",
       "  <thead>\n",
       "    <tr style=\"text-align: right;\">\n",
       "      <th></th>\n",
       "      <th>fit</th>\n",
       "      <th>user_id</th>\n",
       "      <th>bust size</th>\n",
       "      <th>item_id</th>\n",
       "      <th>weight</th>\n",
       "      <th>rating</th>\n",
       "      <th>rented for</th>\n",
       "      <th>review_text</th>\n",
       "      <th>body type</th>\n",
       "      <th>review_summary</th>\n",
       "      <th>category</th>\n",
       "      <th>height</th>\n",
       "      <th>size</th>\n",
       "      <th>age</th>\n",
       "      <th>review_date</th>\n",
       "    </tr>\n",
       "  </thead>\n",
       "  <tbody>\n",
       "    <tr>\n",
       "      <th>0</th>\n",
       "      <td>fit</td>\n",
       "      <td>420272</td>\n",
       "      <td>34d</td>\n",
       "      <td>2260466</td>\n",
       "      <td>137lbs</td>\n",
       "      <td>10.0</td>\n",
       "      <td>vacation</td>\n",
       "      <td>An adorable romper! Belt and zipper were a lit...</td>\n",
       "      <td>hourglass</td>\n",
       "      <td>So many compliments!</td>\n",
       "      <td>romper</td>\n",
       "      <td>5' 8\"</td>\n",
       "      <td>14</td>\n",
       "      <td>28.0</td>\n",
       "      <td>April 20, 2016</td>\n",
       "    </tr>\n",
       "    <tr>\n",
       "      <th>1</th>\n",
       "      <td>fit</td>\n",
       "      <td>273551</td>\n",
       "      <td>34b</td>\n",
       "      <td>153475</td>\n",
       "      <td>132lbs</td>\n",
       "      <td>10.0</td>\n",
       "      <td>other</td>\n",
       "      <td>I rented this dress for a photo shoot. The the...</td>\n",
       "      <td>straight &amp; narrow</td>\n",
       "      <td>I felt so glamourous!!!</td>\n",
       "      <td>gown</td>\n",
       "      <td>5' 6\"</td>\n",
       "      <td>12</td>\n",
       "      <td>36.0</td>\n",
       "      <td>June 18, 2013</td>\n",
       "    </tr>\n",
       "    <tr>\n",
       "      <th>2</th>\n",
       "      <td>fit</td>\n",
       "      <td>360448</td>\n",
       "      <td>NaN</td>\n",
       "      <td>1063761</td>\n",
       "      <td>NaN</td>\n",
       "      <td>10.0</td>\n",
       "      <td>party</td>\n",
       "      <td>This hugged in all the right places! It was a ...</td>\n",
       "      <td>NaN</td>\n",
       "      <td>It was a great time to celebrate the (almost) ...</td>\n",
       "      <td>sheath</td>\n",
       "      <td>5' 4\"</td>\n",
       "      <td>4</td>\n",
       "      <td>116.0</td>\n",
       "      <td>December 14, 2015</td>\n",
       "    </tr>\n",
       "    <tr>\n",
       "      <th>3</th>\n",
       "      <td>fit</td>\n",
       "      <td>909926</td>\n",
       "      <td>34c</td>\n",
       "      <td>126335</td>\n",
       "      <td>135lbs</td>\n",
       "      <td>8.0</td>\n",
       "      <td>formal affair</td>\n",
       "      <td>I rented this for my company's black tie award...</td>\n",
       "      <td>pear</td>\n",
       "      <td>Dress arrived on time and in perfect condition.</td>\n",
       "      <td>dress</td>\n",
       "      <td>5' 5\"</td>\n",
       "      <td>8</td>\n",
       "      <td>34.0</td>\n",
       "      <td>February 12, 2014</td>\n",
       "    </tr>\n",
       "    <tr>\n",
       "      <th>4</th>\n",
       "      <td>fit</td>\n",
       "      <td>151944</td>\n",
       "      <td>34b</td>\n",
       "      <td>616682</td>\n",
       "      <td>145lbs</td>\n",
       "      <td>10.0</td>\n",
       "      <td>wedding</td>\n",
       "      <td>I have always been petite in my upper body and...</td>\n",
       "      <td>athletic</td>\n",
       "      <td>Was in love with this dress !!!</td>\n",
       "      <td>gown</td>\n",
       "      <td>5' 9\"</td>\n",
       "      <td>12</td>\n",
       "      <td>27.0</td>\n",
       "      <td>September 26, 2016</td>\n",
       "    </tr>\n",
       "  </tbody>\n",
       "</table>\n",
       "</div>"
      ],
      "text/plain": [
       "   fit  user_id bust size  item_id  weight  rating     rented for  \\\n",
       "0  fit   420272       34d  2260466  137lbs    10.0       vacation   \n",
       "1  fit   273551       34b   153475  132lbs    10.0          other   \n",
       "2  fit   360448       NaN  1063761     NaN    10.0          party   \n",
       "3  fit   909926       34c   126335  135lbs     8.0  formal affair   \n",
       "4  fit   151944       34b   616682  145lbs    10.0        wedding   \n",
       "\n",
       "                                         review_text          body type  \\\n",
       "0  An adorable romper! Belt and zipper were a lit...          hourglass   \n",
       "1  I rented this dress for a photo shoot. The the...  straight & narrow   \n",
       "2  This hugged in all the right places! It was a ...                NaN   \n",
       "3  I rented this for my company's black tie award...               pear   \n",
       "4  I have always been petite in my upper body and...           athletic   \n",
       "\n",
       "                                      review_summary category height  size  \\\n",
       "0                               So many compliments!   romper  5' 8\"    14   \n",
       "1                            I felt so glamourous!!!     gown  5' 6\"    12   \n",
       "2  It was a great time to celebrate the (almost) ...   sheath  5' 4\"     4   \n",
       "3   Dress arrived on time and in perfect condition.     dress  5' 5\"     8   \n",
       "4                    Was in love with this dress !!!     gown  5' 9\"    12   \n",
       "\n",
       "     age         review_date  \n",
       "0   28.0      April 20, 2016  \n",
       "1   36.0       June 18, 2013  \n",
       "2  116.0   December 14, 2015  \n",
       "3   34.0   February 12, 2014  \n",
       "4   27.0  September 26, 2016  "
      ]
     },
     "execution_count": 3,
     "metadata": {},
     "output_type": "execute_result"
    }
   ],
   "source": [
    "# Preview our dataframe\n",
    "df.head()"
   ]
  },
  {
   "cell_type": "code",
   "execution_count": 4,
   "metadata": {},
   "outputs": [
    {
     "name": "stdout",
     "output_type": "stream",
     "text": [
      "<class 'pandas.core.frame.DataFrame'>\n",
      "RangeIndex: 192544 entries, 0 to 192543\n",
      "Data columns (total 15 columns):\n",
      " #   Column          Non-Null Count   Dtype  \n",
      "---  ------          --------------   -----  \n",
      " 0   fit             192544 non-null  object \n",
      " 1   user_id         192544 non-null  int64  \n",
      " 2   bust size       174133 non-null  object \n",
      " 3   item_id         192544 non-null  int64  \n",
      " 4   weight          162562 non-null  object \n",
      " 5   rating          192462 non-null  float64\n",
      " 6   rented for      192534 non-null  object \n",
      " 7   review_text     192544 non-null  object \n",
      " 8   body type       177907 non-null  object \n",
      " 9   review_summary  192544 non-null  object \n",
      " 10  category        192544 non-null  object \n",
      " 11  height          191867 non-null  object \n",
      " 12  size            192544 non-null  int64  \n",
      " 13  age             191584 non-null  float64\n",
      " 14  review_date     192544 non-null  object \n",
      "dtypes: float64(2), int64(3), object(10)\n",
      "memory usage: 22.0+ MB\n"
     ]
    }
   ],
   "source": [
    "#Checking information on the data\n",
    "df.info()"
   ]
  },
  {
   "cell_type": "markdown",
   "metadata": {},
   "source": [
    "We note that `weight` column is object data type. This is due to the presence of strings to show the units. We will have to change this column to int to make it easier to work with the numbers"
   ]
  },
  {
   "cell_type": "code",
   "execution_count": 5,
   "metadata": {},
   "outputs": [
    {
     "data": {
      "text/plain": [
       "(192544, 15)"
      ]
     },
     "execution_count": 5,
     "metadata": {},
     "output_type": "execute_result"
    }
   ],
   "source": [
    "#Checking shape of the dataset\n",
    "df.shape"
   ]
  },
  {
   "cell_type": "code",
   "execution_count": 6,
   "metadata": {
    "scrolled": true
   },
   "outputs": [
    {
     "data": {
      "text/plain": [
       "fit                   0\n",
       "user_id               0\n",
       "bust size         18411\n",
       "item_id               0\n",
       "weight            29982\n",
       "rating               82\n",
       "rented for           10\n",
       "review_text           0\n",
       "body type         14637\n",
       "review_summary        0\n",
       "category              0\n",
       "height              677\n",
       "size                  0\n",
       "age                 960\n",
       "review_date           0\n",
       "dtype: int64"
      ]
     },
     "execution_count": 6,
     "metadata": {},
     "output_type": "execute_result"
    }
   ],
   "source": [
    "# Check on NaN values\n",
    "df.isnull().sum()"
   ]
  },
  {
   "cell_type": "markdown",
   "metadata": {},
   "source": [
    "The dataset has a number of missing values in different columns which we will clean up later on."
   ]
  },
  {
   "cell_type": "code",
   "execution_count": 7,
   "metadata": {},
   "outputs": [
    {
     "data": {
      "text/plain": [
       "Index(['fit', 'user_id', 'bust size', 'item_id', 'weight', 'rating',\n",
       "       'rented for', 'review_text', 'body type', 'review_summary', 'category',\n",
       "       'height', 'size', 'age', 'review_date'],\n",
       "      dtype='object')"
      ]
     },
     "execution_count": 7,
     "metadata": {},
     "output_type": "execute_result"
    }
   ],
   "source": [
    "df.columns"
   ]
  },
  {
   "cell_type": "markdown",
   "metadata": {},
   "source": [
    "We also notice some of the column names have line spaces and others have underscores. We will rectify that so as to have uniformity on the column names."
   ]
  },
  {
   "cell_type": "code",
   "execution_count": 8,
   "metadata": {},
   "outputs": [
    {
     "data": {
      "text/html": [
       "<div>\n",
       "<style scoped>\n",
       "    .dataframe tbody tr th:only-of-type {\n",
       "        vertical-align: middle;\n",
       "    }\n",
       "\n",
       "    .dataframe tbody tr th {\n",
       "        vertical-align: top;\n",
       "    }\n",
       "\n",
       "    .dataframe thead th {\n",
       "        text-align: right;\n",
       "    }\n",
       "</style>\n",
       "<table border=\"1\" class=\"dataframe\">\n",
       "  <thead>\n",
       "    <tr style=\"text-align: right;\">\n",
       "      <th></th>\n",
       "      <th>user_id</th>\n",
       "      <th>item_id</th>\n",
       "      <th>rating</th>\n",
       "      <th>size</th>\n",
       "      <th>age</th>\n",
       "    </tr>\n",
       "  </thead>\n",
       "  <tbody>\n",
       "    <tr>\n",
       "      <th>count</th>\n",
       "      <td>192544.000000</td>\n",
       "      <td>1.925440e+05</td>\n",
       "      <td>192462.000000</td>\n",
       "      <td>192544.000000</td>\n",
       "      <td>191584.000000</td>\n",
       "    </tr>\n",
       "    <tr>\n",
       "      <th>mean</th>\n",
       "      <td>499494.100149</td>\n",
       "      <td>1.045684e+06</td>\n",
       "      <td>9.092371</td>\n",
       "      <td>12.245175</td>\n",
       "      <td>33.871017</td>\n",
       "    </tr>\n",
       "    <tr>\n",
       "      <th>std</th>\n",
       "      <td>289059.719328</td>\n",
       "      <td>8.053148e+05</td>\n",
       "      <td>1.430044</td>\n",
       "      <td>8.494877</td>\n",
       "      <td>8.058083</td>\n",
       "    </tr>\n",
       "    <tr>\n",
       "      <th>min</th>\n",
       "      <td>9.000000</td>\n",
       "      <td>1.233730e+05</td>\n",
       "      <td>2.000000</td>\n",
       "      <td>0.000000</td>\n",
       "      <td>0.000000</td>\n",
       "    </tr>\n",
       "    <tr>\n",
       "      <th>25%</th>\n",
       "      <td>250654.250000</td>\n",
       "      <td>1.950760e+05</td>\n",
       "      <td>8.000000</td>\n",
       "      <td>8.000000</td>\n",
       "      <td>29.000000</td>\n",
       "    </tr>\n",
       "    <tr>\n",
       "      <th>50%</th>\n",
       "      <td>499419.000000</td>\n",
       "      <td>9.483960e+05</td>\n",
       "      <td>10.000000</td>\n",
       "      <td>12.000000</td>\n",
       "      <td>32.000000</td>\n",
       "    </tr>\n",
       "    <tr>\n",
       "      <th>75%</th>\n",
       "      <td>750974.000000</td>\n",
       "      <td>1.678888e+06</td>\n",
       "      <td>10.000000</td>\n",
       "      <td>16.000000</td>\n",
       "      <td>37.000000</td>\n",
       "    </tr>\n",
       "    <tr>\n",
       "      <th>max</th>\n",
       "      <td>999997.000000</td>\n",
       "      <td>2.966087e+06</td>\n",
       "      <td>10.000000</td>\n",
       "      <td>58.000000</td>\n",
       "      <td>117.000000</td>\n",
       "    </tr>\n",
       "  </tbody>\n",
       "</table>\n",
       "</div>"
      ],
      "text/plain": [
       "             user_id       item_id         rating           size  \\\n",
       "count  192544.000000  1.925440e+05  192462.000000  192544.000000   \n",
       "mean   499494.100149  1.045684e+06       9.092371      12.245175   \n",
       "std    289059.719328  8.053148e+05       1.430044       8.494877   \n",
       "min         9.000000  1.233730e+05       2.000000       0.000000   \n",
       "25%    250654.250000  1.950760e+05       8.000000       8.000000   \n",
       "50%    499419.000000  9.483960e+05      10.000000      12.000000   \n",
       "75%    750974.000000  1.678888e+06      10.000000      16.000000   \n",
       "max    999997.000000  2.966087e+06      10.000000      58.000000   \n",
       "\n",
       "                 age  \n",
       "count  191584.000000  \n",
       "mean       33.871017  \n",
       "std         8.058083  \n",
       "min         0.000000  \n",
       "25%        29.000000  \n",
       "50%        32.000000  \n",
       "75%        37.000000  \n",
       "max       117.000000  "
      ]
     },
     "execution_count": 8,
     "metadata": {},
     "output_type": "execute_result"
    }
   ],
   "source": [
    "df.describe()"
   ]
  },
  {
   "cell_type": "markdown",
   "metadata": {},
   "source": [
    "The `age` and `size` column have a minimum value of **0**. This is not feasible in real life and hence we will need to change those values. Furthermore the max value for `age` is **117**. Although a possibilty this seems most unlikely to be the case for this dataset."
   ]
  },
  {
   "cell_type": "code",
   "execution_count": 9,
   "metadata": {},
   "outputs": [
    {
     "data": {
      "text/plain": [
       "10.0    124537\n",
       "8.0      53391\n",
       "6.0      10697\n",
       "4.0       2791\n",
       "2.0       1046\n",
       "Name: rating, dtype: int64"
      ]
     },
     "execution_count": 9,
     "metadata": {},
     "output_type": "execute_result"
    }
   ],
   "source": [
    "df['rating'].value_counts()"
   ]
  },
  {
   "cell_type": "markdown",
   "metadata": {},
   "source": [
    "We also note that the `rating` column only has 5 unique inputs (even numbers only) and the data is not continous."
   ]
  },
  {
   "cell_type": "markdown",
   "metadata": {},
   "source": [
    "      2.2 Data cleaning \n"
   ]
  },
  {
   "cell_type": "markdown",
   "metadata": {},
   "source": [
    "We start by changing the column name structure for consistency"
   ]
  },
  {
   "cell_type": "code",
   "execution_count": 10,
   "metadata": {},
   "outputs": [
    {
     "data": {
      "text/plain": [
       "Index(['fit', 'user_id', 'bust size', 'item_id', 'weight', 'rating',\n",
       "       'rented for', 'review_text', 'body type', 'review_summary', 'category',\n",
       "       'height', 'size', 'age', 'review_date'],\n",
       "      dtype='object')"
      ]
     },
     "execution_count": 10,
     "metadata": {},
     "output_type": "execute_result"
    }
   ],
   "source": [
    "df.columns"
   ]
  },
  {
   "cell_type": "code",
   "execution_count": 11,
   "metadata": {},
   "outputs": [
    {
     "data": {
      "text/plain": [
       "Index(['fit', 'user_id', 'bust_size', 'item_id', 'weight', 'rating',\n",
       "       'rented_for', 'review_text', 'body_type', 'review_summary', 'category',\n",
       "       'height', 'size', 'age', 'review_date'],\n",
       "      dtype='object')"
      ]
     },
     "execution_count": 11,
     "metadata": {},
     "output_type": "execute_result"
    }
   ],
   "source": [
    "# Change linespace to underscore\n",
    "df.rename(columns = {\n",
    "   \"bust size\": \"bust_size\",\n",
    "   \"rented for\": \"rented_for\",\n",
    "   \"body type\" : \"body_type\"}, inplace=True)\n",
    "\n",
    "# Confirm our changes\n",
    "df.columns"
   ]
  },
  {
   "cell_type": "markdown",
   "metadata": {},
   "source": [
    "\n",
    "*     2.2.1 Handling Missing Values"
   ]
  },
  {
   "cell_type": "markdown",
   "metadata": {},
   "source": [
    "We then check the number of missing values in all the columns and deal with each in the best way possible."
   ]
  },
  {
   "cell_type": "code",
   "execution_count": 12,
   "metadata": {
    "scrolled": true
   },
   "outputs": [
    {
     "data": {
      "text/plain": [
       "fit                   0\n",
       "user_id               0\n",
       "bust_size         18411\n",
       "item_id               0\n",
       "weight            29982\n",
       "rating               82\n",
       "rented_for           10\n",
       "review_text           0\n",
       "body_type         14637\n",
       "review_summary        0\n",
       "category              0\n",
       "height              677\n",
       "size                  0\n",
       "age                 960\n",
       "review_date           0\n",
       "dtype: int64"
      ]
     },
     "execution_count": 12,
     "metadata": {},
     "output_type": "execute_result"
    }
   ],
   "source": [
    "# Check NaN values\n",
    "df.isnull().sum()"
   ]
  },
  {
   "cell_type": "markdown",
   "metadata": {},
   "source": [
    "As seen above, our data has missing values on the following columns `bust_size`, `weight`,`rating`,`rented_for`,`body type`, `height` and `age`. \n",
    "\n",
    "We start with the `rating` and `rented_for` columns. The number of rows with missing data is extremely low. We will drop these rows as they will have no significant statistical impact on our analysis."
   ]
  },
  {
   "cell_type": "code",
   "execution_count": 13,
   "metadata": {},
   "outputs": [
    {
     "data": {
      "text/plain": [
       "fit                   0\n",
       "user_id               0\n",
       "bust_size         18394\n",
       "item_id               0\n",
       "weight            29957\n",
       "rating                0\n",
       "rented_for            0\n",
       "review_text           0\n",
       "body_type         14637\n",
       "review_summary        0\n",
       "category              0\n",
       "height              677\n",
       "size                  0\n",
       "age                 959\n",
       "review_date           0\n",
       "dtype: int64"
      ]
     },
     "execution_count": 13,
     "metadata": {},
     "output_type": "execute_result"
    }
   ],
   "source": [
    "#dropping missing values for 'rating' and 'rented_for' columns\n",
    "df.dropna(subset=['rating', 'rented_for'], inplace=True)\n",
    "\n",
    "\n",
    "# df.reset_index(drop=True, inplace=True)\n",
    "\n",
    "#checking missing values\n",
    "df.isnull().sum()"
   ]
  },
  {
   "cell_type": "markdown",
   "metadata": {},
   "source": [
    "Now lets handle missing values for other columns."
   ]
  },
  {
   "cell_type": "code",
   "execution_count": 14,
   "metadata": {
    "scrolled": false
   },
   "outputs": [
    {
     "data": {
      "text/plain": [
       "34b    27271\n",
       "34c    23131\n",
       "34d    18023\n",
       "36c    13508\n",
       "32d    11193\n",
       "       ...  \n",
       "28h        1\n",
       "28i        1\n",
       "44h        1\n",
       "42h        1\n",
       "40i        1\n",
       "Name: bust_size, Length: 106, dtype: int64"
      ]
     },
     "execution_count": 14,
     "metadata": {},
     "output_type": "execute_result"
    }
   ],
   "source": [
    "df['bust_size'].value_counts()"
   ]
  },
  {
   "cell_type": "code",
   "execution_count": 15,
   "metadata": {},
   "outputs": [
    {
     "data": {
      "image/png": "[encoded data removed]",
      "text/plain": [
       "<Figure size 720x432 with 1 Axes>"
      ]
     },
     "metadata": {
      "needs_background": "light"
     },
     "output_type": "display_data"
    }
   ],
   "source": [
    "plt.figure(figsize=(10, 6)) \n",
    "plt.bar(df['bust_size'].value_counts().index, df['bust_size'].value_counts())\n",
    "plt.title(\"Bust Size Distribution\")\n",
    "plt.xticks(rotation=90, fontsize=6.5)\n",
    "plt.tight_layout();"
   ]
  },
  {
   "cell_type": "markdown",
   "metadata": {},
   "source": [
    "The data seems to be categorical in nature with a number of outlliers. Thus we will not replace Nan vlaues with mean but rather with mode."
   ]
  },
  {
   "cell_type": "code",
   "execution_count": 16,
   "metadata": {},
   "outputs": [
    {
     "data": {
      "text/plain": [
       "fit                   0\n",
       "user_id               0\n",
       "bust_size             0\n",
       "item_id               0\n",
       "weight            29957\n",
       "rating                0\n",
       "rented_for            0\n",
       "review_text           0\n",
       "body_type         14637\n",
       "review_summary        0\n",
       "category              0\n",
       "height              677\n",
       "size                  0\n",
       "age                 959\n",
       "review_date           0\n",
       "dtype: int64"
      ]
     },
     "execution_count": 16,
     "metadata": {},
     "output_type": "execute_result"
    }
   ],
   "source": [
    "# Get the mode\n",
    "mode_bust_size = df['bust_size'].mode()[0]\n",
    "# df['bust_size'].replace('NaN', mode_bust_size, inplace=True)\n",
    "\n",
    "# Replace mode NaN with Mode\n",
    "df['bust_size'] = df['bust_size'].fillna(mode_bust_size)\n",
    "\n",
    "# Confirm Changes\n",
    "df.isna().sum()"
   ]
  },
  {
   "cell_type": "markdown",
   "metadata": {},
   "source": [
    "We will do the same thing for `body_type` as it is also a categorical column."
   ]
  },
  {
   "cell_type": "code",
   "execution_count": 17,
   "metadata": {},
   "outputs": [
    {
     "data": {
      "text/plain": [
       "hourglass            55307\n",
       "athletic             43650\n",
       "pear                 22124\n",
       "petite               22122\n",
       "full bust            14998\n",
       "straight & narrow    14737\n",
       "apple                 4877\n",
       "Name: body_type, dtype: int64"
      ]
     },
     "execution_count": 17,
     "metadata": {},
     "output_type": "execute_result"
    }
   ],
   "source": [
    "df['body_type'].value_counts()"
   ]
  },
  {
   "cell_type": "code",
   "execution_count": 18,
   "metadata": {},
   "outputs": [
    {
     "data": {
      "text/plain": [
       "fit                   0\n",
       "user_id               0\n",
       "bust_size             0\n",
       "item_id               0\n",
       "weight            29957\n",
       "rating                0\n",
       "rented_for            0\n",
       "review_text           0\n",
       "body_type             0\n",
       "review_summary        0\n",
       "category              0\n",
       "height              677\n",
       "size                  0\n",
       "age                 959\n",
       "review_date           0\n",
       "dtype: int64"
      ]
     },
     "execution_count": 18,
     "metadata": {},
     "output_type": "execute_result"
    }
   ],
   "source": [
    "# Get the mode\n",
    "mode_body_type = df['body_type'].mode()[0]\n",
    "# df['bust_size'].replace('NaN', mode_bust_size, inplace=True)\n",
    "\n",
    "# Replace mode NaN with Mode\n",
    "df['body_type'] = df['body_type'].fillna(mode_body_type)\n",
    "\n",
    "# Confirm Changes\n",
    "df.isna().sum()"
   ]
  },
  {
   "cell_type": "markdown",
   "metadata": {},
   "source": [
    "We now move to the weight column."
   ]
  },
  {
   "cell_type": "code",
   "execution_count": 19,
   "metadata": {
    "scrolled": true
   },
   "outputs": [
    {
     "data": {
      "text/plain": [
       "130lbs    14365\n",
       "135lbs    13696\n",
       "125lbs    12868\n",
       "140lbs    12159\n",
       "120lbs    10686\n",
       "          ...  \n",
       "251lbs        1\n",
       "87lbs         1\n",
       "264lbs        1\n",
       "253lbs        1\n",
       "263lbs        1\n",
       "Name: weight, Length: 190, dtype: int64"
      ]
     },
     "execution_count": 19,
     "metadata": {},
     "output_type": "execute_result"
    }
   ],
   "source": [
    "#checking weight column\n",
    "df['weight'].value_counts()"
   ]
  },
  {
   "cell_type": "markdown",
   "metadata": {},
   "source": [
    "We want to get rid of the SI unit of pounds and convert the data type from object to int to make it easier to work with the column"
   ]
  },
  {
   "cell_type": "code",
   "execution_count": 20,
   "metadata": {},
   "outputs": [
    {
     "data": {
      "text/plain": [
       "130.0    14365\n",
       "135.0    13696\n",
       "125.0    12868\n",
       "140.0    12159\n",
       "120.0    10686\n",
       "         ...  \n",
       "87.0         1\n",
       "271.0        1\n",
       "269.0        1\n",
       "58.0         1\n",
       "243.0        1\n",
       "Name: weight, Length: 190, dtype: int64"
      ]
     },
     "execution_count": 20,
     "metadata": {},
     "output_type": "execute_result"
    }
   ],
   "source": [
    "# Remove the strings and change the data type\n",
    "df['weight'] = df['weight'].str.replace('lbs', '').astype(float)\n",
    "\n",
    "# Confirm changes\n",
    "df['weight'].value_counts()"
   ]
  },
  {
   "cell_type": "markdown",
   "metadata": {},
   "source": [
    "Check distribution of the data in the column and statistical figures"
   ]
  },
  {
   "cell_type": "code",
   "execution_count": 21,
   "metadata": {},
   "outputs": [
    {
     "data": {
      "image/png": "[encoded data removed]",
      "text/plain": [
       "<Figure size 432x288 with 1 Axes>"
      ]
     },
     "metadata": {
      "needs_background": "light"
     },
     "output_type": "display_data"
    }
   ],
   "source": [
    "plt.hist(df['weight'])\n",
    "plt.title('Weight Distribution');"
   ]
  },
  {
   "cell_type": "code",
   "execution_count": 22,
   "metadata": {},
   "outputs": [
    {
     "data": {
      "text/plain": [
       "count    162495.000000\n",
       "mean        137.392621\n",
       "std          21.899228\n",
       "min          50.000000\n",
       "25%         123.000000\n",
       "50%         135.000000\n",
       "75%         148.000000\n",
       "max         300.000000\n",
       "Name: weight, dtype: float64"
      ]
     },
     "execution_count": 22,
     "metadata": {},
     "output_type": "execute_result"
    }
   ],
   "source": [
    "df['weight'].describe()"
   ]
  },
  {
   "cell_type": "markdown",
   "metadata": {},
   "source": [
    "As expected weight seems to have somewhat of a normal distribution and due to the fact the data is continous we will use the **mean** to fill in for the missing data."
   ]
  },
  {
   "cell_type": "code",
   "execution_count": 23,
   "metadata": {},
   "outputs": [],
   "source": [
    "# #First step, filling missing values with the mean\n",
    "\n",
    "# mean_weight = df['weight'].str.extract('(\\d+)').astype(float).mean()\n",
    "# df['weight'].fillna(f\"{mean_weight}lbs\", inplace=True)\n",
    "\n",
    "# # Step 2: Converting the 'weight' column to numeric\n",
    "# df['weight'] = df['weight'].str.extract('(\\d+)').astype(float)\n",
    "\n",
    "# # Display the updated DataFrame\n",
    "# print(df['weight'][:20])"
   ]
  },
  {
   "cell_type": "code",
   "execution_count": 24,
   "metadata": {},
   "outputs": [
    {
     "data": {
      "text/plain": [
       "fit                 0\n",
       "user_id             0\n",
       "bust_size           0\n",
       "item_id             0\n",
       "weight              0\n",
       "rating              0\n",
       "rented_for          0\n",
       "review_text         0\n",
       "body_type           0\n",
       "review_summary      0\n",
       "category            0\n",
       "height            677\n",
       "size                0\n",
       "age               959\n",
       "review_date         0\n",
       "dtype: int64"
      ]
     },
     "execution_count": 24,
     "metadata": {},
     "output_type": "execute_result"
    }
   ],
   "source": [
    "# Fill in missing data with mean\n",
    "df['weight'] = df['weight'].fillna(df['weight'].mean())\n",
    "\n",
    "# Confirm changes\n",
    "df.isnull().sum()"
   ]
  },
  {
   "cell_type": "markdown",
   "metadata": {},
   "source": [
    "Now only `height` and `age` columns remain with missing values."
   ]
  },
  {
   "cell_type": "code",
   "execution_count": 25,
   "metadata": {},
   "outputs": [
    {
     "data": {
      "text/plain": [
       "5' 4\"     27990\n",
       "5' 6\"     25665\n",
       "5' 5\"     24308\n",
       "5' 7\"     24009\n",
       "5' 3\"     20722\n",
       "5' 2\"     16758\n",
       "5' 8\"     16363\n",
       "5' 9\"     11365\n",
       "5' 1\"      7145\n",
       "5' 10\"     7041\n",
       "5' 0\"      4014\n",
       "5' 11\"     3114\n",
       "6' 0\"      1404\n",
       "4' 11\"     1013\n",
       "6' 1\"       364\n",
       "4' 10\"      212\n",
       "6' 2\"       124\n",
       "4' 9\"        60\n",
       "6' 3\"        31\n",
       "4' 6\"        20\n",
       "6' 4\"        18\n",
       "4' 8\"        17\n",
       "4' 7\"        16\n",
       "6' 6\"         2\n",
       "Name: height, dtype: int64"
      ]
     },
     "execution_count": 25,
     "metadata": {},
     "output_type": "execute_result"
    }
   ],
   "source": [
    "df['height'].value_counts()"
   ]
  },
  {
   "cell_type": "markdown",
   "metadata": {},
   "source": [
    "For the `height` column we want to work with standard metric units and so we will conver the height from feet and inches to centimeters."
   ]
  },
  {
   "cell_type": "code",
   "execution_count": 26,
   "metadata": {},
   "outputs": [],
   "source": [
    "# First, define a function to convert the height format to inches\n",
    "def convert_to_cm(height_str):\n",
    "    if pd.isnull(height_str):\n",
    "        return height_str\n",
    "\n",
    "    if \"'\" in str(height_str):  # Check if the value is a string containing \"'\"\n",
    "        feet, inches = map(int, str(height_str).replace('\"', '').split(\"'\"))\n",
    "        total_inches = feet * 12 + inches\n",
    "        cm_conversion_factor = 2.54\n",
    "        height_cm = round(total_inches * cm_conversion_factor, 2)\n",
    "        return height_cm\n",
    "    else:\n",
    "        return float(height_str)\n",
    "    \n",
    "# Apply the conversion function to the 'height' column\n",
    "df['height'] = df['height'].apply(convert_to_cm)"
   ]
  },
  {
   "cell_type": "code",
   "execution_count": 27,
   "metadata": {},
   "outputs": [
    {
     "data": {
      "text/plain": [
       "162.56    27990\n",
       "167.64    25665\n",
       "165.10    24308\n",
       "170.18    24009\n",
       "160.02    20722\n",
       "157.48    16758\n",
       "172.72    16363\n",
       "175.26    11365\n",
       "154.94     7145\n",
       "177.80     7041\n",
       "152.40     4014\n",
       "180.34     3114\n",
       "182.88     1404\n",
       "149.86     1013\n",
       "185.42      364\n",
       "147.32      212\n",
       "187.96      124\n",
       "144.78       60\n",
       "190.50       31\n",
       "137.16       20\n",
       "193.04       18\n",
       "142.24       17\n",
       "139.70       16\n",
       "198.12        2\n",
       "Name: height, dtype: int64"
      ]
     },
     "execution_count": 27,
     "metadata": {},
     "output_type": "execute_result"
    }
   ],
   "source": [
    "# Confirm changes\n",
    "df['height'].value_counts()"
   ]
  },
  {
   "cell_type": "code",
   "execution_count": 28,
   "metadata": {
    "scrolled": false
   },
   "outputs": [
    {
     "data": {
      "image/png": "[encoded data removed]",
      "text/plain": [
       "<Figure size 432x288 with 1 Axes>"
      ]
     },
     "metadata": {
      "needs_background": "light"
     },
     "output_type": "display_data"
    }
   ],
   "source": [
    "# Check heigh distribution\n",
    "plt.hist(df['height']);"
   ]
  },
  {
   "cell_type": "markdown",
   "metadata": {},
   "source": [
    "The data has a distribution close to normal and due to its continous nature we will replace the missing values with the **mean**"
   ]
  },
  {
   "cell_type": "code",
   "execution_count": 29,
   "metadata": {},
   "outputs": [
    {
     "data": {
      "text/plain": [
       "fit                 0\n",
       "user_id             0\n",
       "bust_size           0\n",
       "item_id             0\n",
       "weight              0\n",
       "rating              0\n",
       "rented_for          0\n",
       "review_text         0\n",
       "body_type           0\n",
       "review_summary      0\n",
       "category            0\n",
       "height              0\n",
       "size                0\n",
       "age               959\n",
       "review_date         0\n",
       "dtype: int64"
      ]
     },
     "execution_count": 29,
     "metadata": {},
     "output_type": "execute_result"
    }
   ],
   "source": [
    "# Now, fill NaN values in the 'height' column with the mean or any other appropriate value\n",
    "mean_height = df['height'].mean()\n",
    "df['height'].fillna(mean_height, inplace=True)\n",
    "\n",
    "# Confirm changes\n",
    "df.isna().sum()"
   ]
  },
  {
   "cell_type": "code",
   "execution_count": 30,
   "metadata": {},
   "outputs": [
    {
     "data": {
      "text/plain": [
       "32.0"
      ]
     },
     "execution_count": 30,
     "metadata": {},
     "output_type": "execute_result"
    }
   ],
   "source": [
    "df['age'].median()"
   ]
  },
  {
   "cell_type": "code",
   "execution_count": 31,
   "metadata": {},
   "outputs": [
    {
     "data": {
      "text/plain": [
       "fit               0\n",
       "user_id           0\n",
       "bust_size         0\n",
       "item_id           0\n",
       "weight            0\n",
       "rating            0\n",
       "rented_for        0\n",
       "review_text       0\n",
       "body_type         0\n",
       "review_summary    0\n",
       "category          0\n",
       "height            0\n",
       "size              0\n",
       "age               0\n",
       "review_date       0\n",
       "dtype: int64"
      ]
     },
     "execution_count": 31,
     "metadata": {},
     "output_type": "execute_result"
    }
   ],
   "source": [
    "# Fill missing values with mean\n",
    "df['age'] = df['age'].fillna(df['age'].median())\n",
    "\n",
    "# Confirm changes\n",
    "df.isna().sum()"
   ]
  },
  {
   "cell_type": "markdown",
   "metadata": {},
   "source": [
    "Now that all the missing values have been filled, we go ahead and deal with the feasibilty issues in the `age` and `size` columns."
   ]
  },
  {
   "cell_type": "code",
   "execution_count": 32,
   "metadata": {},
   "outputs": [
    {
     "data": {
      "text/plain": [
       "count    192452.000000\n",
       "mean         33.860843\n",
       "std           8.038657\n",
       "min           0.000000\n",
       "25%          29.000000\n",
       "50%          32.000000\n",
       "75%          37.000000\n",
       "max         117.000000\n",
       "Name: age, dtype: float64"
      ]
     },
     "execution_count": 32,
     "metadata": {},
     "output_type": "execute_result"
    }
   ],
   "source": [
    "df['age'].describe()"
   ]
  },
  {
   "cell_type": "markdown",
   "metadata": {},
   "source": [
    "We see that even despite feeling in the missing values we still have rows with 0 in ages. We need to fill these with also the mean age and drop all the rows above 100 years"
   ]
  },
  {
   "cell_type": "code",
   "execution_count": 33,
   "metadata": {},
   "outputs": [
    {
     "data": {
      "text/plain": [
       "count    192387.000000\n",
       "mean         33.837151\n",
       "std           7.888465\n",
       "min           1.000000\n",
       "25%          29.000000\n",
       "50%          32.000000\n",
       "75%          37.000000\n",
       "max         100.000000\n",
       "Name: age, dtype: float64"
      ]
     },
     "execution_count": 33,
     "metadata": {},
     "output_type": "execute_result"
    }
   ],
   "source": [
    "# Drop rows with an age above 100\n",
    "df = df[df['age'] <= 100]\n",
    "\n",
    "# Fill rows with an age of '0' with the median\n",
    "median_age = df['age'].median()\n",
    "df['age'] = df['age'].replace(0, median_age)\n",
    "\n",
    "# Confirm changes\n",
    "df['age'].describe()"
   ]
  },
  {
   "cell_type": "markdown",
   "metadata": {},
   "source": [
    "We replace the 0 in `size` with the most common size."
   ]
  },
  {
   "cell_type": "code",
   "execution_count": 34,
   "metadata": {},
   "outputs": [],
   "source": [
    "df['size'] = df['size'].replace(0, df['size'].mode()[0])"
   ]
  },
  {
   "cell_type": "code",
   "execution_count": 35,
   "metadata": {},
   "outputs": [
    {
     "data": {
      "text/plain": [
       "count    192387.000000\n",
       "mean         12.267830\n",
       "std           8.473083\n",
       "min           1.000000\n",
       "25%           8.000000\n",
       "50%          12.000000\n",
       "75%          16.000000\n",
       "max          58.000000\n",
       "Name: size, dtype: float64"
      ]
     },
     "execution_count": 35,
     "metadata": {},
     "output_type": "execute_result"
    }
   ],
   "source": [
    "# Confirm changes\n",
    "df['size'].describe()"
   ]
  },
  {
   "cell_type": "code",
   "execution_count": 36,
   "metadata": {},
   "outputs": [
    {
     "name": "stdout",
     "output_type": "stream",
     "text": [
      "<class 'pandas.core.frame.DataFrame'>\n",
      "Int64Index: 192387 entries, 0 to 192543\n",
      "Data columns (total 15 columns):\n",
      " #   Column          Non-Null Count   Dtype  \n",
      "---  ------          --------------   -----  \n",
      " 0   fit             192387 non-null  object \n",
      " 1   user_id         192387 non-null  int64  \n",
      " 2   bust_size       192387 non-null  object \n",
      " 3   item_id         192387 non-null  int64  \n",
      " 4   weight          192387 non-null  float64\n",
      " 5   rating          192387 non-null  float64\n",
      " 6   rented_for      192387 non-null  object \n",
      " 7   review_text     192387 non-null  object \n",
      " 8   body_type       192387 non-null  object \n",
      " 9   review_summary  192387 non-null  object \n",
      " 10  category        192387 non-null  object \n",
      " 11  height          192387 non-null  float64\n",
      " 12  size            192387 non-null  int64  \n",
      " 13  age             192387 non-null  float64\n",
      " 14  review_date     192387 non-null  object \n",
      "dtypes: float64(4), int64(3), object(8)\n",
      "memory usage: 23.5+ MB\n"
     ]
    }
   ],
   "source": [
    "df.info()"
   ]
  },
  {
   "cell_type": "code",
   "execution_count": 37,
   "metadata": {},
   "outputs": [
    {
     "data": {
      "text/plain": [
       "10.0    124488\n",
       "8.0      53368\n",
       "6.0      10696\n",
       "4.0       2790\n",
       "2.0       1045\n",
       "Name: rating, dtype: int64"
      ]
     },
     "execution_count": 37,
     "metadata": {},
     "output_type": "execute_result"
    }
   ],
   "source": [
    "df['rating'].value_counts()"
   ]
  },
  {
   "cell_type": "markdown",
   "metadata": {},
   "source": [
    "We need to convert the rating scale to 1-5. There are only even numbers (i.e. 2, 4, 6, 8, 10) in the column so condensing it to this seems reasonable."
   ]
  },
  {
   "cell_type": "code",
   "execution_count": 38,
   "metadata": {},
   "outputs": [
    {
     "data": {
      "text/plain": [
       "5    124488\n",
       "4     53368\n",
       "3     10696\n",
       "2      2790\n",
       "1      1045\n",
       "Name: rating, dtype: int64"
      ]
     },
     "execution_count": 38,
     "metadata": {},
     "output_type": "execute_result"
    }
   ],
   "source": [
    "rating_mapping = {2: 1, 4: 2, 6: 3, 8: 4, 10: 5}\n",
    "\n",
    "# Replace the original 'Ratings' column with the mapped values\n",
    "df['rating'] = df['rating'].map(rating_mapping)\n",
    "\n",
    "# Confirm changes\n",
    "df['rating'].value_counts()"
   ]
  },
  {
   "cell_type": "raw",
   "metadata": {},
   "source": [
    "2.2.2 Data Type Conversion"
   ]
  },
  {
   "cell_type": "raw",
   "metadata": {},
   "source": [
    " 2.2.3 Removing Duplicates"
   ]
  },
  {
   "cell_type": "raw",
   "metadata": {},
   "source": [
    " 2.3 Exploratory Data Analysis (EDA)"
   ]
  },
  {
   "cell_type": "raw",
   "metadata": {},
   "source": [
    "2.3.1 Descriptive Statistics"
   ]
  },
  {
   "cell_type": "code",
   "execution_count": 39,
   "metadata": {},
   "outputs": [
    {
     "name": "stdout",
     "output_type": "stream",
     "text": [
      "<class 'pandas.core.frame.DataFrame'>\n",
      "Int64Index: 192387 entries, 0 to 192543\n",
      "Data columns (total 15 columns):\n",
      " #   Column          Non-Null Count   Dtype  \n",
      "---  ------          --------------   -----  \n",
      " 0   fit             192387 non-null  object \n",
      " 1   user_id         192387 non-null  int64  \n",
      " 2   bust_size       192387 non-null  object \n",
      " 3   item_id         192387 non-null  int64  \n",
      " 4   weight          192387 non-null  float64\n",
      " 5   rating          192387 non-null  int64  \n",
      " 6   rented_for      192387 non-null  object \n",
      " 7   review_text     192387 non-null  object \n",
      " 8   body_type       192387 non-null  object \n",
      " 9   review_summary  192387 non-null  object \n",
      " 10  category        192387 non-null  object \n",
      " 11  height          192387 non-null  float64\n",
      " 12  size            192387 non-null  int64  \n",
      " 13  age             192387 non-null  float64\n",
      " 14  review_date     192387 non-null  object \n",
      "dtypes: float64(3), int64(4), object(8)\n",
      "memory usage: 23.5+ MB\n"
     ]
    }
   ],
   "source": [
    "df.info()"
   ]
  },
  {
   "cell_type": "code",
   "execution_count": 40,
   "metadata": {},
   "outputs": [
    {
     "data": {
      "text/html": [
       "<div>\n",
       "<style scoped>\n",
       "    .dataframe tbody tr th:only-of-type {\n",
       "        vertical-align: middle;\n",
       "    }\n",
       "\n",
       "    .dataframe tbody tr th {\n",
       "        vertical-align: top;\n",
       "    }\n",
       "\n",
       "    .dataframe thead th {\n",
       "        text-align: right;\n",
       "    }\n",
       "</style>\n",
       "<table border=\"1\" class=\"dataframe\">\n",
       "  <thead>\n",
       "    <tr style=\"text-align: right;\">\n",
       "      <th></th>\n",
       "      <th>user_id</th>\n",
       "      <th>item_id</th>\n",
       "      <th>weight</th>\n",
       "      <th>rating</th>\n",
       "      <th>height</th>\n",
       "      <th>size</th>\n",
       "      <th>age</th>\n",
       "    </tr>\n",
       "  </thead>\n",
       "  <tbody>\n",
       "    <tr>\n",
       "      <th>count</th>\n",
       "      <td>192387.000000</td>\n",
       "      <td>1.923870e+05</td>\n",
       "      <td>192387.000000</td>\n",
       "      <td>192387.000000</td>\n",
       "      <td>192387.000000</td>\n",
       "      <td>192387.000000</td>\n",
       "      <td>192387.000000</td>\n",
       "    </tr>\n",
       "    <tr>\n",
       "      <th>mean</th>\n",
       "      <td>499523.652570</td>\n",
       "      <td>1.046102e+06</td>\n",
       "      <td>137.396447</td>\n",
       "      <td>4.546175</td>\n",
       "      <td>165.890336</td>\n",
       "      <td>12.267830</td>\n",
       "      <td>33.837151</td>\n",
       "    </tr>\n",
       "    <tr>\n",
       "      <th>std</th>\n",
       "      <td>289050.522901</td>\n",
       "      <td>8.053137e+05</td>\n",
       "      <td>20.123466</td>\n",
       "      <td>0.715022</td>\n",
       "      <td>6.753413</td>\n",
       "      <td>8.473083</td>\n",
       "      <td>7.888465</td>\n",
       "    </tr>\n",
       "    <tr>\n",
       "      <th>min</th>\n",
       "      <td>9.000000</td>\n",
       "      <td>1.233730e+05</td>\n",
       "      <td>50.000000</td>\n",
       "      <td>1.000000</td>\n",
       "      <td>137.160000</td>\n",
       "      <td>1.000000</td>\n",
       "      <td>1.000000</td>\n",
       "    </tr>\n",
       "    <tr>\n",
       "      <th>25%</th>\n",
       "      <td>250747.000000</td>\n",
       "      <td>1.951240e+05</td>\n",
       "      <td>125.000000</td>\n",
       "      <td>4.000000</td>\n",
       "      <td>160.020000</td>\n",
       "      <td>8.000000</td>\n",
       "      <td>29.000000</td>\n",
       "    </tr>\n",
       "    <tr>\n",
       "      <th>50%</th>\n",
       "      <td>499419.000000</td>\n",
       "      <td>9.502240e+05</td>\n",
       "      <td>137.392621</td>\n",
       "      <td>5.000000</td>\n",
       "      <td>165.100000</td>\n",
       "      <td>12.000000</td>\n",
       "      <td>32.000000</td>\n",
       "    </tr>\n",
       "    <tr>\n",
       "      <th>75%</th>\n",
       "      <td>750998.000000</td>\n",
       "      <td>1.678888e+06</td>\n",
       "      <td>145.000000</td>\n",
       "      <td>5.000000</td>\n",
       "      <td>170.180000</td>\n",
       "      <td>16.000000</td>\n",
       "      <td>37.000000</td>\n",
       "    </tr>\n",
       "    <tr>\n",
       "      <th>max</th>\n",
       "      <td>999997.000000</td>\n",
       "      <td>2.966087e+06</td>\n",
       "      <td>300.000000</td>\n",
       "      <td>5.000000</td>\n",
       "      <td>198.120000</td>\n",
       "      <td>58.000000</td>\n",
       "      <td>100.000000</td>\n",
       "    </tr>\n",
       "  </tbody>\n",
       "</table>\n",
       "</div>"
      ],
      "text/plain": [
       "             user_id       item_id         weight         rating  \\\n",
       "count  192387.000000  1.923870e+05  192387.000000  192387.000000   \n",
       "mean   499523.652570  1.046102e+06     137.396447       4.546175   \n",
       "std    289050.522901  8.053137e+05      20.123466       0.715022   \n",
       "min         9.000000  1.233730e+05      50.000000       1.000000   \n",
       "25%    250747.000000  1.951240e+05     125.000000       4.000000   \n",
       "50%    499419.000000  9.502240e+05     137.392621       5.000000   \n",
       "75%    750998.000000  1.678888e+06     145.000000       5.000000   \n",
       "max    999997.000000  2.966087e+06     300.000000       5.000000   \n",
       "\n",
       "              height           size            age  \n",
       "count  192387.000000  192387.000000  192387.000000  \n",
       "mean      165.890336      12.267830      33.837151  \n",
       "std         6.753413       8.473083       7.888465  \n",
       "min       137.160000       1.000000       1.000000  \n",
       "25%       160.020000       8.000000      29.000000  \n",
       "50%       165.100000      12.000000      32.000000  \n",
       "75%       170.180000      16.000000      37.000000  \n",
       "max       198.120000      58.000000     100.000000  "
      ]
     },
     "execution_count": 40,
     "metadata": {},
     "output_type": "execute_result"
    }
   ],
   "source": [
    "#Checking the Summary Statistics for Numerical Features\n",
    "df.describe()"
   ]
  },
  {
   "cell_type": "markdown",
   "metadata": {},
   "source": [
    "We see that the average weight is **137.4lbs**(62 kgs) while the average height is **165.9cm**. Most of the people in the dataset are aroune **33yrs** of age."
   ]
  },
  {
   "cell_type": "code",
   "execution_count": 41,
   "metadata": {},
   "outputs": [
    {
     "name": "stdout",
     "output_type": "stream",
     "text": [
      "Skewness: 1.2361494460052949, Kurtosis: 2.3184959497566204\n"
     ]
    },
    {
     "data": {
      "image/png": "[encoded data removed]",
      "text/plain": [
       "<Figure size 432x288 with 1 Axes>"
      ]
     },
     "metadata": {
      "needs_background": "light"
     },
     "output_type": "display_data"
    }
   ],
   "source": [
    "#Measuring the skewness and kurtosis of numerical features\n",
    "skewness = df['age'].skew()\n",
    "kurtosis = df['age'].kurt()\n",
    "print(f\"Skewness: {skewness}, Kurtosis: {kurtosis}\")\n",
    "\n",
    "plt.hist(df['age'])\n",
    "plt.title(\"Age Distribution\")\n",
    "plt.xlabel('Age')\n",
    "plt.ylabel('Count');"
   ]
  },
  {
   "cell_type": "markdown",
   "metadata": {},
   "source": [
    "The data has a tail on the right side whicc is in line with its positive value of skewness (**1.23**). \n",
    "\n",
    "Its kurtosis is **2.32**. This shows that is is **platykurtic** (light-tailed)."
   ]
  },
  {
   "cell_type": "code",
   "execution_count": 42,
   "metadata": {},
   "outputs": [
    {
     "name": "stdout",
     "output_type": "stream",
     "text": [
      "age        99.00\n",
      "weight    250.00\n",
      "height     60.96\n",
      "dtype: float64\n"
     ]
    }
   ],
   "source": [
    "#Computing the range (difference between maximum and minimum) for 'age','weight' and 'height' columns.\n",
    "numerical_range = df[['age', 'weight', 'height']].max() - df[['age', 'weight', 'height']].min()\n",
    "print(numerical_range)"
   ]
  },
  {
   "cell_type": "markdown",
   "metadata": {},
   "source": [
    "# 2.3.2 Data Visualization"
   ]
  },
  {
   "cell_type": "markdown",
   "metadata": {},
   "source": [
    "We check for correlation betweenthe different numerical features."
   ]
  },
  {
   "cell_type": "code",
   "execution_count": 43,
   "metadata": {},
   "outputs": [
    {
     "data": {
      "image/png": "[encoded data removed]",
      "text/plain": [
       "<Figure size 720x576 with 2 Axes>"
      ]
     },
     "metadata": {
      "needs_background": "light"
     },
     "output_type": "display_data"
    }
   ],
   "source": [
    "#Exploring relationships between columns using a correlation matrix.\n",
    "correlation_matrix = df.corr()\n",
    "plt.figure(figsize=(10,8))\n",
    "sns.heatmap(correlation_matrix, annot=True, cmap='coolwarm', fmt=\".2f\", linewidths=0.5)\n",
    "plt.title('Correlation Matrix')\n",
    "plt.show();"
   ]
  },
  {
   "cell_type": "markdown",
   "metadata": {},
   "source": [
    "Most features dont have a strong corelation with the only exception being weight and size. They have a strong positive correlation meaning that as weight increases so does size which does somewhat reflect what we already know."
   ]
  },
  {
   "cell_type": "code",
   "execution_count": 44,
   "metadata": {},
   "outputs": [
    {
     "data": {
      "text/plain": [
       "hourglass            69921\n",
       "athletic             43643\n",
       "pear                 22110\n",
       "petite               22109\n",
       "full bust            14994\n",
       "straight & narrow    14735\n",
       "apple                 4875\n",
       "Name: body_type, dtype: int64"
      ]
     },
     "execution_count": 44,
     "metadata": {},
     "output_type": "execute_result"
    }
   ],
   "source": [
    "df['body_type'].value_counts()"
   ]
  },
  {
   "cell_type": "code",
   "execution_count": 45,
   "metadata": {},
   "outputs": [
    {
     "data": {
      "image/png": "[encoded data removed]",
      "text/plain": [
       "<Figure size 432x288 with 1 Axes>"
      ]
     },
     "metadata": {
      "needs_background": "light"
     },
     "output_type": "display_data"
    }
   ],
   "source": [
    "#Exploring the distribution of column 'body_type' using bar plot.\n",
    "\n",
    "# sns.countplot(x='body_type', data=df)\n",
    "unique_categories = df['body_type'].unique()\n",
    "colors = plt.cm.Set1(range(len(unique_categories)))\n",
    "plt.bar(df['body_type'].value_counts().index, df['body_type'].value_counts().values, color=colors)\n",
    "plt.title('Frequency Distribution of Body Types')\n",
    "plt.xticks(rotation=45)\n",
    "plt.show();"
   ]
  },
  {
   "cell_type": "markdown",
   "metadata": {},
   "source": [
    "We see that the most common body type as per our data is hour glass, with the least being apple."
   ]
  },
  {
   "cell_type": "code",
   "execution_count": 46,
   "metadata": {},
   "outputs": [
    {
     "data": {
      "image/png": "[encoded data removed]",
      "text/plain": [
       "<Figure size 432x288 with 1 Axes>"
      ]
     },
     "metadata": {
      "needs_background": "light"
     },
     "output_type": "display_data"
    }
   ],
   "source": [
    "df['fit'].value_counts()\n",
    "\n",
    "sns.countplot(x='fit', data=df, palette='Set1')\n",
    "plt.title('Types of Fit');"
   ]
  },
  {
   "cell_type": "markdown",
   "metadata": {},
   "source": [
    "The data shows that most people like clothes that fit onto their body type. Not too large or too small. "
   ]
  },
  {
   "cell_type": "code",
   "execution_count": 47,
   "metadata": {},
   "outputs": [
    {
     "data": {
      "text/plain": [
       "34b        45652\n",
       "34c        23127\n",
       "34d        18023\n",
       "36c        13507\n",
       "32d        11173\n",
       "36d        11113\n",
       "32b        10899\n",
       "32c         9937\n",
       "36b         9672\n",
       "34a         7888\n",
       "32a         5083\n",
       "38d         4259\n",
       "38c         2667\n",
       "34dd        2665\n",
       "36a         2086\n",
       "32dd        1714\n",
       "36dd        1468\n",
       "34d+        1415\n",
       "38b         1031\n",
       "34ddd/e     1030\n",
       "36d+         945\n",
       "32d+         926\n",
       "32ddd/e      726\n",
       "38d+         660\n",
       "38dd         519\n",
       "36ddd/e      444\n",
       "32aa         331\n",
       "34aa         279\n",
       "30d          195\n",
       "38ddd/e      190\n",
       "Name: bust_size, dtype: int64"
      ]
     },
     "execution_count": 47,
     "metadata": {},
     "output_type": "execute_result"
    }
   ],
   "source": [
    "b_s_vc = df['bust_size'].value_counts()\n",
    "b_s_vc.head(30)"
   ]
  },
  {
   "cell_type": "code",
   "execution_count": 48,
   "metadata": {},
   "outputs": [
    {
     "data": {
      "image/png": "[encoded data removed]",
      "text/plain": [
       "<Figure size 432x288 with 1 Axes>"
      ]
     },
     "metadata": {
      "needs_background": "light"
     },
     "output_type": "display_data"
    }
   ],
   "source": [
    "plt.plot(b_s_vc.head(30))\n",
    "plt.xticks(rotation=90);"
   ]
  },
  {
   "cell_type": "markdown",
   "metadata": {},
   "source": [
    "The graph shows the 30 most common bra-sizes among women in the dataset with 34B as the most common. This data is still too general and we would want to look at the bra sizes at different ages."
   ]
  },
  {
   "cell_type": "code",
   "execution_count": 49,
   "metadata": {},
   "outputs": [],
   "source": [
    "filtered_df = df[(df['age'] >= 18) & (df['age'] <= 40)]"
   ]
  },
  {
   "cell_type": "code",
   "execution_count": 50,
   "metadata": {},
   "outputs": [
    {
     "data": {
      "image/png": "[encoded data removed]",
      "text/plain": [
       "<Figure size 864x432 with 1 Axes>"
      ]
     },
     "metadata": {
      "needs_background": "light"
     },
     "output_type": "display_data"
    }
   ],
   "source": [
    "# Group by age and bust size, get counts, and select the top 5 for each age\n",
    "top_bust_sizes = (\n",
    "    filtered_df.groupby(['age', 'bust_size'])\n",
    "               .size()\n",
    "               .reset_index(name='count')\n",
    "               .sort_values(['age', 'count'], ascending=[True, False])\n",
    "               .groupby('age')\n",
    "               .head(5)\n",
    ")\n",
    "\n",
    "# Create a countplot with hue\n",
    "plt.figure(figsize=(12, 6))\n",
    "sns.barplot(x='age', y='count', hue='bust_size', data=top_bust_sizes, palette='viridis')\n",
    "plt.xticks(rotation=45)\n",
    "plt.show();"
   ]
  },
  {
   "cell_type": "markdown",
   "metadata": {},
   "source": [
    "Here we see the most common bra-sizes in women between 18 and 40. Once again it seems that 34b is the most common in every age group between those years.\n",
    "\n",
    "Next we want to compare the rating of clothes against the reasons rented for. This will help us identify if there are clothes that are favoured more for certain events"
   ]
  },
  {
   "cell_type": "code",
   "execution_count": 51,
   "metadata": {},
   "outputs": [
    {
     "name": "stdout",
     "output_type": "stream",
     "text": [
      "<class 'pandas.core.frame.DataFrame'>\n",
      "Int64Index: 192387 entries, 0 to 192543\n",
      "Data columns (total 15 columns):\n",
      " #   Column          Non-Null Count   Dtype  \n",
      "---  ------          --------------   -----  \n",
      " 0   fit             192387 non-null  object \n",
      " 1   user_id         192387 non-null  int64  \n",
      " 2   bust_size       192387 non-null  object \n",
      " 3   item_id         192387 non-null  int64  \n",
      " 4   weight          192387 non-null  float64\n",
      " 5   rating          192387 non-null  int64  \n",
      " 6   rented_for      192387 non-null  object \n",
      " 7   review_text     192387 non-null  object \n",
      " 8   body_type       192387 non-null  object \n",
      " 9   review_summary  192387 non-null  object \n",
      " 10  category        192387 non-null  object \n",
      " 11  height          192387 non-null  float64\n",
      " 12  size            192387 non-null  int64  \n",
      " 13  age             192387 non-null  float64\n",
      " 14  review_date     192387 non-null  object \n",
      "dtypes: float64(3), int64(4), object(8)\n",
      "memory usage: 28.5+ MB\n"
     ]
    }
   ],
   "source": [
    "df.info()"
   ]
  },
  {
   "cell_type": "code",
   "execution_count": 52,
   "metadata": {},
   "outputs": [
    {
     "data": {
      "text/plain": [
       "wedding            57759\n",
       "formal affair      40345\n",
       "party              35593\n",
       "everyday           16819\n",
       "other              15374\n",
       "work               15036\n",
       "date                7387\n",
       "vacation            4073\n",
       "party: cocktail        1\n",
       "Name: rented_for, dtype: int64"
      ]
     },
     "execution_count": 52,
     "metadata": {},
     "output_type": "execute_result"
    }
   ],
   "source": [
    "df['rented_for'].value_counts()"
   ]
  },
  {
   "cell_type": "markdown",
   "metadata": {},
   "source": [
    "We merge 'party:cocktail' with 'party'."
   ]
  },
  {
   "cell_type": "code",
   "execution_count": 53,
   "metadata": {},
   "outputs": [
    {
     "data": {
      "text/plain": [
       "wedding          57759\n",
       "formal affair    40345\n",
       "party            35594\n",
       "everyday         16819\n",
       "other            15374\n",
       "work             15036\n",
       "date              7387\n",
       "vacation          4073\n",
       "Name: rented_for, dtype: int64"
      ]
     },
     "execution_count": 53,
     "metadata": {},
     "output_type": "execute_result"
    }
   ],
   "source": [
    "mapping_dict = {'party: cocktail': 'party'}\n",
    "\n",
    "# Map the values using the dictionary\n",
    "df['rented_for'] = df['rented_for'].map(mapping_dict).fillna(\n",
    "                   df['rented_for'])\n",
    "\n",
    "# Confirm changes\n",
    "df['rented_for'].value_counts()"
   ]
  },
  {
   "cell_type": "code",
   "execution_count": 54,
   "metadata": {},
   "outputs": [
    {
     "data": {
      "text/plain": [
       "5    124488\n",
       "4     53368\n",
       "3     10696\n",
       "2      2790\n",
       "1      1045\n",
       "Name: rating, dtype: int64"
      ]
     },
     "execution_count": 54,
     "metadata": {},
     "output_type": "execute_result"
    }
   ],
   "source": [
    "df['rating'].value_counts()"
   ]
  },
  {
   "cell_type": "code",
   "execution_count": 55,
   "metadata": {},
   "outputs": [
    {
     "data": {
      "image/png": "[encoded data removed]",
      "text/plain": [
       "<Figure size 864x720 with 1 Axes>"
      ]
     },
     "metadata": {
      "needs_background": "light"
     },
     "output_type": "display_data"
    }
   ],
   "source": [
    "# Combine the two columns and count the occurrences\n",
    "grouped_data = df.groupby(['rented_for', 'rating']).size().unstack()\n",
    "\n",
    "# Plot a stacked bar chart\n",
    "grouped_data.plot(kind='bar', stacked=True, figsize=(12, 10))\n",
    "plt.title('Ratings by Reasons Rented For')\n",
    "plt.xlabel('Rented For')\n",
    "plt.ylabel('Counts')\n",
    "plt.show();"
   ]
  },
  {
   "cell_type": "markdown",
   "metadata": {},
   "source": [
    "We see that most of the clothing gets a high rating from the users. We also note that the highest use of the clothing is for wedding occasions."
   ]
  },
  {
   "cell_type": "code",
   "execution_count": 56,
   "metadata": {},
   "outputs": [
    {
     "data": {
      "image/png": "[encoded data removed]",
      "text/plain": [
       "<Figure size 864x576 with 1 Axes>"
      ]
     },
     "metadata": {
      "needs_background": "light"
     },
     "output_type": "display_data"
    }
   ],
   "source": [
    "# Group by 'rented_for' and calculate the mean rating for each group\n",
    "mean_ratings = df.groupby('rented_for')['rating'].mean()\n",
    "\n",
    "# Plot the mean ratings\n",
    "plt.figure(figsize=(12, 8))\n",
    "mean_ratings.plot(kind='bar', color='skyblue')\n",
    "plt.title('Mean Ratings for Different Values of \"rented_for\"')\n",
    "plt.xlabel('Rented For')\n",
    "plt.ylabel('Mean Rating')\n",
    "plt.xticks(rotation=45, ha='right')\n",
    "\n",
    "# plot average rating\n",
    "plt.axhline(y=df['rating'].mean(), color='red')\n",
    "# dummy_line = Line2D([0], [0], color='red', linestyle='-')\n",
    "plt.legend(loc='upper left', labels=['Avg Rating'])\n",
    "plt.show()"
   ]
  },
  {
   "cell_type": "code",
   "execution_count": 57,
   "metadata": {},
   "outputs": [
    {
     "data": {
      "image/png": "[encoded data removed]",
      "text/plain": [
       "<Figure size 864x576 with 1 Axes>"
      ]
     },
     "metadata": {
      "needs_background": "light"
     },
     "output_type": "display_data"
    }
   ],
   "source": [
    "#Visualizing the distribution of 'age' using histograms or kernel density plots.\n",
    "\n",
    "plt.figure(figsize=(12,8))\n",
    "sns.histplot(df['age'], kde=True)\n",
    "\n",
    "plt.title('Distribution of Age')\n",
    "plt.show()"
   ]
  },
  {
   "cell_type": "markdown",
   "metadata": {},
   "source": [
    "As expected this seems like a normal distribution.The histogram shows that majoority are between the ages of 20 - 40 years old."
   ]
  },
  {
   "cell_type": "code",
   "execution_count": 58,
   "metadata": {},
   "outputs": [
    {
     "data": {
      "image/png": "[encoded data removed]",
      "text/plain": [
       "<Figure size 540x540 with 12 Axes>"
      ]
     },
     "metadata": {
      "needs_background": "light"
     },
     "output_type": "display_data"
    }
   ],
   "source": [
    "# Visualizing relationships between 'Age',' weight' and 'height' columns\n",
    "sns.pairplot(df[['age', 'weight', 'height']])\n",
    "plt.suptitle('Pair Plot of Numerical Features')\n",
    "plt.show()"
   ]
  },
  {
   "cell_type": "code",
   "execution_count": 59,
   "metadata": {},
   "outputs": [
    {
     "data": {
      "image/png": "[encoded data removed]",
      "text/plain": [
       "<Figure size 432x288 with 1 Axes>"
      ]
     },
     "metadata": {
      "needs_background": "light"
     },
     "output_type": "display_data"
    }
   ],
   "source": [
    "#Checking for outliers and comparing distributions using box plots.\n",
    "\n",
    "\n",
    "sns.boxplot(x='body_type', y='age', data=df)\n",
    "plt.title('Box Plot of Age by Body Type')\n",
    "plt.xticks(rotation=45)\n",
    "plt.show();"
   ]
  },
  {
   "cell_type": "markdown",
   "metadata": {},
   "source": [
    "There are outliers especially at age 120 years for the columns weight, full bust and apple body_type."
   ]
  },
  {
   "cell_type": "markdown",
   "metadata": {},
   "source": [
    "# 3. Feature Engineering"
   ]
  },
  {
   "cell_type": "code",
   "execution_count": 60,
   "metadata": {},
   "outputs": [
    {
     "data": {
      "text/html": [
       "<div>\n",
       "<style scoped>\n",
       "    .dataframe tbody tr th:only-of-type {\n",
       "        vertical-align: middle;\n",
       "    }\n",
       "\n",
       "    .dataframe tbody tr th {\n",
       "        vertical-align: top;\n",
       "    }\n",
       "\n",
       "    .dataframe thead th {\n",
       "        text-align: right;\n",
       "    }\n",
       "</style>\n",
       "<table border=\"1\" class=\"dataframe\">\n",
       "  <thead>\n",
       "    <tr style=\"text-align: right;\">\n",
       "      <th></th>\n",
       "      <th>fit</th>\n",
       "      <th>user_id</th>\n",
       "      <th>bust_size</th>\n",
       "      <th>item_id</th>\n",
       "      <th>weight</th>\n",
       "      <th>rating</th>\n",
       "      <th>rented_for</th>\n",
       "      <th>review_text</th>\n",
       "      <th>body_type</th>\n",
       "      <th>review_summary</th>\n",
       "      <th>category</th>\n",
       "      <th>height</th>\n",
       "      <th>size</th>\n",
       "      <th>age</th>\n",
       "      <th>review_date</th>\n",
       "    </tr>\n",
       "  </thead>\n",
       "  <tbody>\n",
       "    <tr>\n",
       "      <th>0</th>\n",
       "      <td>fit</td>\n",
       "      <td>420272</td>\n",
       "      <td>34d</td>\n",
       "      <td>2260466</td>\n",
       "      <td>137.0</td>\n",
       "      <td>5</td>\n",
       "      <td>vacation</td>\n",
       "      <td>An adorable romper! Belt and zipper were a lit...</td>\n",
       "      <td>hourglass</td>\n",
       "      <td>So many compliments!</td>\n",
       "      <td>romper</td>\n",
       "      <td>172.72</td>\n",
       "      <td>14</td>\n",
       "      <td>28.0</td>\n",
       "      <td>April 20, 2016</td>\n",
       "    </tr>\n",
       "    <tr>\n",
       "      <th>1</th>\n",
       "      <td>fit</td>\n",
       "      <td>273551</td>\n",
       "      <td>34b</td>\n",
       "      <td>153475</td>\n",
       "      <td>132.0</td>\n",
       "      <td>5</td>\n",
       "      <td>other</td>\n",
       "      <td>I rented this dress for a photo shoot. The the...</td>\n",
       "      <td>straight &amp; narrow</td>\n",
       "      <td>I felt so glamourous!!!</td>\n",
       "      <td>gown</td>\n",
       "      <td>167.64</td>\n",
       "      <td>12</td>\n",
       "      <td>36.0</td>\n",
       "      <td>June 18, 2013</td>\n",
       "    </tr>\n",
       "    <tr>\n",
       "      <th>3</th>\n",
       "      <td>fit</td>\n",
       "      <td>909926</td>\n",
       "      <td>34c</td>\n",
       "      <td>126335</td>\n",
       "      <td>135.0</td>\n",
       "      <td>4</td>\n",
       "      <td>formal affair</td>\n",
       "      <td>I rented this for my company's black tie award...</td>\n",
       "      <td>pear</td>\n",
       "      <td>Dress arrived on time and in perfect condition.</td>\n",
       "      <td>dress</td>\n",
       "      <td>165.10</td>\n",
       "      <td>8</td>\n",
       "      <td>34.0</td>\n",
       "      <td>February 12, 2014</td>\n",
       "    </tr>\n",
       "    <tr>\n",
       "      <th>4</th>\n",
       "      <td>fit</td>\n",
       "      <td>151944</td>\n",
       "      <td>34b</td>\n",
       "      <td>616682</td>\n",
       "      <td>145.0</td>\n",
       "      <td>5</td>\n",
       "      <td>wedding</td>\n",
       "      <td>I have always been petite in my upper body and...</td>\n",
       "      <td>athletic</td>\n",
       "      <td>Was in love with this dress !!!</td>\n",
       "      <td>gown</td>\n",
       "      <td>175.26</td>\n",
       "      <td>12</td>\n",
       "      <td>27.0</td>\n",
       "      <td>September 26, 2016</td>\n",
       "    </tr>\n",
       "    <tr>\n",
       "      <th>5</th>\n",
       "      <td>fit</td>\n",
       "      <td>734848</td>\n",
       "      <td>32b</td>\n",
       "      <td>364092</td>\n",
       "      <td>138.0</td>\n",
       "      <td>4</td>\n",
       "      <td>date</td>\n",
       "      <td>Didn't actually wear it. It fit perfectly. The...</td>\n",
       "      <td>athletic</td>\n",
       "      <td>Traditional with a touch a sass</td>\n",
       "      <td>dress</td>\n",
       "      <td>172.72</td>\n",
       "      <td>8</td>\n",
       "      <td>45.0</td>\n",
       "      <td>April 30, 2016</td>\n",
       "    </tr>\n",
       "  </tbody>\n",
       "</table>\n",
       "</div>"
      ],
      "text/plain": [
       "   fit  user_id bust_size  item_id  weight  rating     rented_for  \\\n",
       "0  fit   420272       34d  2260466   137.0       5       vacation   \n",
       "1  fit   273551       34b   153475   132.0       5          other   \n",
       "3  fit   909926       34c   126335   135.0       4  formal affair   \n",
       "4  fit   151944       34b   616682   145.0       5        wedding   \n",
       "5  fit   734848       32b   364092   138.0       4           date   \n",
       "\n",
       "                                         review_text          body_type  \\\n",
       "0  An adorable romper! Belt and zipper were a lit...          hourglass   \n",
       "1  I rented this dress for a photo shoot. The the...  straight & narrow   \n",
       "3  I rented this for my company's black tie award...               pear   \n",
       "4  I have always been petite in my upper body and...           athletic   \n",
       "5  Didn't actually wear it. It fit perfectly. The...           athletic   \n",
       "\n",
       "                                     review_summary category  height  size  \\\n",
       "0                              So many compliments!   romper  172.72    14   \n",
       "1                           I felt so glamourous!!!     gown  167.64    12   \n",
       "3  Dress arrived on time and in perfect condition.     dress  165.10     8   \n",
       "4                   Was in love with this dress !!!     gown  175.26    12   \n",
       "5                   Traditional with a touch a sass    dress  172.72     8   \n",
       "\n",
       "    age         review_date  \n",
       "0  28.0      April 20, 2016  \n",
       "1  36.0       June 18, 2013  \n",
       "3  34.0   February 12, 2014  \n",
       "4  27.0  September 26, 2016  \n",
       "5  45.0      April 30, 2016  "
      ]
     },
     "execution_count": 60,
     "metadata": {},
     "output_type": "execute_result"
    }
   ],
   "source": [
    "df.head()"
   ]
  },
  {
   "cell_type": "code",
   "execution_count": 61,
   "metadata": {},
   "outputs": [
    {
     "name": "stderr",
     "output_type": "stream",
     "text": [
      "[nltk_data] Downloading package stopwords to\n",
      "[nltk_data]     C:\\Users\\ONES\\AppData\\Roaming\\nltk_data...\n",
      "[nltk_data]   Package stopwords is already up-to-date!\n"
     ]
    },
    {
     "data": {
      "text/plain": [
       "True"
      ]
     },
     "execution_count": 61,
     "metadata": {},
     "output_type": "execute_result"
    }
   ],
   "source": [
    "import nltk\n",
    "nltk.download('stopwords')"
   ]
  },
  {
   "cell_type": "code",
   "execution_count": 62,
   "metadata": {},
   "outputs": [],
   "source": [
    "from nltk.tokenize import RegexpTokenizer\n",
    "from nltk.corpus import stopwords\n",
    "from nltk.stem import PorterStemmer\n",
    "\n",
    "# Create an intance of the RegexpTokenizer with the variable name `tokenizer`\n",
    "# The regex pattern should select all words with three or more characters\n",
    "tokenizer = RegexpTokenizer(r\"(?u)\\w{3,}\")\n",
    "\n",
    "# Create a list of stopwords in English\n",
    "stopwords_list = set(stopwords.words('english'))\n",
    "\n",
    "# Create an instance of nltk's PorterStemmer with the variable name `stemmer`\n",
    "stemmer = PorterStemmer()"
   ]
  },
  {
   "cell_type": "code",
   "execution_count": 63,
   "metadata": {},
   "outputs": [
    {
     "data": {
      "text/plain": [
       "['exampl', 'sentenc', 'preprocess']"
      ]
     },
     "execution_count": 63,
     "metadata": {},
     "output_type": "execute_result"
    }
   ],
   "source": [
    "def preprocess_text(text, tokenizer, stopwords_list, stemmer):\n",
    "    # Standardize case (lowercase the text)\n",
    "    # YOUR CODE HERE\n",
    "    text = text.lower()\n",
    "    \n",
    "    # Tokenize text using `tokenizer`\n",
    "    # YOUR CODE HERE\n",
    "    tokens = tokenizer.tokenize(text)\n",
    "    \n",
    "    # Remove stopwords using `stopwords_list`\n",
    "    # YOUR CODE HERE\n",
    "    tokens = [word for word in tokens if word not in stopwords_list]\n",
    "    \n",
    "    # Stem the tokenized text using `stemmer`\n",
    "    # YOUR CODE HERE\n",
    "    tokens = [stemmer.stem(word) for word in tokens]\n",
    "    \n",
    "    # Return the preprocessed text\n",
    "    # YOUR CODE HERE\n",
    "    return tokens\n",
    "    \n",
    "preprocess_text(\"This is an example sentence for preprocessing.\", tokenizer, stopwords_list, stemmer)"
   ]
  },
  {
   "cell_type": "code",
   "execution_count": 64,
   "metadata": {},
   "outputs": [
    {
     "data": {
      "text/plain": [
       "0         [ador, romper, belt, zipper, littl, hard, navi...\n",
       "1         [rent, dress, photo, shoot, theme, hollywood, ...\n",
       "3         [rent, compani, black, tie, award, banquet, li...\n",
       "4         [alway, petit, upper, bodi, extrem, athlet, ty...\n",
       "5         [actual, wear, fit, perfectli, fabric, littl, ...\n",
       "                                ...                        \n",
       "192539                                   [fit, like, glove]\n",
       "192540    [pattern, contrast, dress, realli, stun, usual...\n",
       "192541    [like, dvf, wrap, fit, fantast, albeit, collar...\n",
       "192542    [dress, perfect, look, incred, photo, love, we...\n",
       "192543    [dress, wonder, origin, plan, wear, bcbg, maxa...\n",
       "Name: review_text, Length: 192387, dtype: object"
      ]
     },
     "execution_count": 64,
     "metadata": {},
     "output_type": "execute_result"
    }
   ],
   "source": [
    "text_data = df.review_text.apply(lambda x: preprocess_text(x, tokenizer, stopwords_list, stemmer))\n",
    "text_data"
   ]
  },
  {
   "cell_type": "code",
   "execution_count": 65,
   "metadata": {},
   "outputs": [
    {
     "data": {
      "text/html": [
       "<div>\n",
       "<style scoped>\n",
       "    .dataframe tbody tr th:only-of-type {\n",
       "        vertical-align: middle;\n",
       "    }\n",
       "\n",
       "    .dataframe tbody tr th {\n",
       "        vertical-align: top;\n",
       "    }\n",
       "\n",
       "    .dataframe thead th {\n",
       "        text-align: right;\n",
       "    }\n",
       "</style>\n",
       "<table border=\"1\" class=\"dataframe\">\n",
       "  <thead>\n",
       "    <tr style=\"text-align: right;\">\n",
       "      <th></th>\n",
       "      <th>fit</th>\n",
       "      <th>user_id</th>\n",
       "      <th>bust_size</th>\n",
       "      <th>item_id</th>\n",
       "      <th>weight</th>\n",
       "      <th>rating</th>\n",
       "      <th>rented_for</th>\n",
       "      <th>review_text</th>\n",
       "      <th>body_type</th>\n",
       "      <th>review_summary</th>\n",
       "      <th>category</th>\n",
       "      <th>height</th>\n",
       "      <th>size</th>\n",
       "      <th>age</th>\n",
       "      <th>review_date</th>\n",
       "      <th>processed_review</th>\n",
       "    </tr>\n",
       "  </thead>\n",
       "  <tbody>\n",
       "    <tr>\n",
       "      <th>0</th>\n",
       "      <td>fit</td>\n",
       "      <td>420272</td>\n",
       "      <td>34d</td>\n",
       "      <td>2260466</td>\n",
       "      <td>137.0</td>\n",
       "      <td>5</td>\n",
       "      <td>vacation</td>\n",
       "      <td>An adorable romper! Belt and zipper were a lit...</td>\n",
       "      <td>hourglass</td>\n",
       "      <td>So many compliments!</td>\n",
       "      <td>romper</td>\n",
       "      <td>172.72</td>\n",
       "      <td>14</td>\n",
       "      <td>28.0</td>\n",
       "      <td>April 20, 2016</td>\n",
       "      <td>[ador, romper, belt, zipper, littl, hard, navi...</td>\n",
       "    </tr>\n",
       "    <tr>\n",
       "      <th>1</th>\n",
       "      <td>fit</td>\n",
       "      <td>273551</td>\n",
       "      <td>34b</td>\n",
       "      <td>153475</td>\n",
       "      <td>132.0</td>\n",
       "      <td>5</td>\n",
       "      <td>other</td>\n",
       "      <td>I rented this dress for a photo shoot. The the...</td>\n",
       "      <td>straight &amp; narrow</td>\n",
       "      <td>I felt so glamourous!!!</td>\n",
       "      <td>gown</td>\n",
       "      <td>167.64</td>\n",
       "      <td>12</td>\n",
       "      <td>36.0</td>\n",
       "      <td>June 18, 2013</td>\n",
       "      <td>[rent, dress, photo, shoot, theme, hollywood, ...</td>\n",
       "    </tr>\n",
       "    <tr>\n",
       "      <th>3</th>\n",
       "      <td>fit</td>\n",
       "      <td>909926</td>\n",
       "      <td>34c</td>\n",
       "      <td>126335</td>\n",
       "      <td>135.0</td>\n",
       "      <td>4</td>\n",
       "      <td>formal affair</td>\n",
       "      <td>I rented this for my company's black tie award...</td>\n",
       "      <td>pear</td>\n",
       "      <td>Dress arrived on time and in perfect condition.</td>\n",
       "      <td>dress</td>\n",
       "      <td>165.10</td>\n",
       "      <td>8</td>\n",
       "      <td>34.0</td>\n",
       "      <td>February 12, 2014</td>\n",
       "      <td>[rent, compani, black, tie, award, banquet, li...</td>\n",
       "    </tr>\n",
       "    <tr>\n",
       "      <th>4</th>\n",
       "      <td>fit</td>\n",
       "      <td>151944</td>\n",
       "      <td>34b</td>\n",
       "      <td>616682</td>\n",
       "      <td>145.0</td>\n",
       "      <td>5</td>\n",
       "      <td>wedding</td>\n",
       "      <td>I have always been petite in my upper body and...</td>\n",
       "      <td>athletic</td>\n",
       "      <td>Was in love with this dress !!!</td>\n",
       "      <td>gown</td>\n",
       "      <td>175.26</td>\n",
       "      <td>12</td>\n",
       "      <td>27.0</td>\n",
       "      <td>September 26, 2016</td>\n",
       "      <td>[alway, petit, upper, bodi, extrem, athlet, ty...</td>\n",
       "    </tr>\n",
       "    <tr>\n",
       "      <th>5</th>\n",
       "      <td>fit</td>\n",
       "      <td>734848</td>\n",
       "      <td>32b</td>\n",
       "      <td>364092</td>\n",
       "      <td>138.0</td>\n",
       "      <td>4</td>\n",
       "      <td>date</td>\n",
       "      <td>Didn't actually wear it. It fit perfectly. The...</td>\n",
       "      <td>athletic</td>\n",
       "      <td>Traditional with a touch a sass</td>\n",
       "      <td>dress</td>\n",
       "      <td>172.72</td>\n",
       "      <td>8</td>\n",
       "      <td>45.0</td>\n",
       "      <td>April 30, 2016</td>\n",
       "      <td>[actual, wear, fit, perfectli, fabric, littl, ...</td>\n",
       "    </tr>\n",
       "  </tbody>\n",
       "</table>\n",
       "</div>"
      ],
      "text/plain": [
       "   fit  user_id bust_size  item_id  weight  rating     rented_for  \\\n",
       "0  fit   420272       34d  2260466   137.0       5       vacation   \n",
       "1  fit   273551       34b   153475   132.0       5          other   \n",
       "3  fit   909926       34c   126335   135.0       4  formal affair   \n",
       "4  fit   151944       34b   616682   145.0       5        wedding   \n",
       "5  fit   734848       32b   364092   138.0       4           date   \n",
       "\n",
       "                                         review_text          body_type  \\\n",
       "0  An adorable romper! Belt and zipper were a lit...          hourglass   \n",
       "1  I rented this dress for a photo shoot. The the...  straight & narrow   \n",
       "3  I rented this for my company's black tie award...               pear   \n",
       "4  I have always been petite in my upper body and...           athletic   \n",
       "5  Didn't actually wear it. It fit perfectly. The...           athletic   \n",
       "\n",
       "                                     review_summary category  height  size  \\\n",
       "0                              So many compliments!   romper  172.72    14   \n",
       "1                           I felt so glamourous!!!     gown  167.64    12   \n",
       "3  Dress arrived on time and in perfect condition.     dress  165.10     8   \n",
       "4                   Was in love with this dress !!!     gown  175.26    12   \n",
       "5                   Traditional with a touch a sass    dress  172.72     8   \n",
       "\n",
       "    age         review_date                                   processed_review  \n",
       "0  28.0      April 20, 2016  [ador, romper, belt, zipper, littl, hard, navi...  \n",
       "1  36.0       June 18, 2013  [rent, dress, photo, shoot, theme, hollywood, ...  \n",
       "3  34.0   February 12, 2014  [rent, compani, black, tie, award, banquet, li...  \n",
       "4  27.0  September 26, 2016  [alway, petit, upper, bodi, extrem, athlet, ty...  \n",
       "5  45.0      April 30, 2016  [actual, wear, fit, perfectli, fabric, littl, ...  "
      ]
     },
     "execution_count": 65,
     "metadata": {},
     "output_type": "execute_result"
    }
   ],
   "source": [
    "df['processed_review'] = text_data\n",
    "df.head()"
   ]
  },
  {
   "cell_type": "code",
   "execution_count": 66,
   "metadata": {},
   "outputs": [
    {
     "data": {
      "image/png": "[encoded data removed]",
      "text/plain": [
       "<Figure size 864x864 with 8 Axes>"
      ]
     },
     "metadata": {
      "needs_background": "light"
     },
     "output_type": "display_data"
    }
   ],
   "source": [
    "import matplotlib.pyplot as plt\n",
    "import seaborn as sns\n",
    "\n",
    "# Set up figure and axes\n",
    "fig, axes = plt.subplots(nrows=8, figsize=(12, 12))\n",
    "\n",
    "# Empty dict to hold words that have already been plotted and their colors\n",
    "plotted_words_and_colors = {}\n",
    "# Establish color palette to pull from\n",
    "color_palette = sns.color_palette('viridis', n_colors=38)  # Using 'viridis' colormap for better color variety\n",
    "\n",
    "# Creating a plot for each unique genre\n",
    "data_by_rent = [y for _, y in df.groupby('rented_for', as_index=False)]\n",
    "for idx, rent_df in enumerate(data_by_rent):\n",
    "    # Find top 10 words in this genre\n",
    "    all_words_in_rent = rent_df.processed_review.explode()\n",
    "    top_10 = all_words_in_rent.value_counts()[:10]\n",
    "    \n",
    "    # Select appropriate colors, reusing colors if words repeat\n",
    "    colors = [plotted_words_and_colors.get(word, color_palette.pop(0) if color_palette else None) for word in top_10.index]\n",
    "    plotted_words_and_colors.update(zip(top_10.index, [color for color in colors if color is not None]))\n",
    "    \n",
    "    # Select axes, plot data, set title\n",
    "    ax = axes[idx]\n",
    "    ax.bar(top_10.index, top_10.values, color=colors)\n",
    "    ax.set_title(rent_df.iloc[0].rented_for.title())\n",
    "\n",
    "    # Reset color_palette if it's empty\n",
    "    if not color_palette:\n",
    "        color_palette = sns.color_palette('viridis', n_colors=38)\n",
    "\n",
    "fig.tight_layout()\n",
    "plt.show()"
   ]
  },
  {
   "cell_type": "code",
   "execution_count": null,
   "metadata": {},
   "outputs": [],
   "source": []
  },
  {
   "cell_type": "raw",
   "metadata": {},
   "source": [
    "3.1 Transforming 'review_date'"
   ]
  },
  {
   "cell_type": "raw",
   "metadata": {},
   "source": [
    " 3.1.1  Encoding Categorical Variables"
   ]
  },
  {
   "cell_type": "raw",
   "metadata": {},
   "source": [
    "3.1.2  One-Hot Encoding"
   ]
  },
  {
   "cell_type": "raw",
   "metadata": {},
   "source": [
    "3.2 Label Encoding"
   ]
  },
  {
   "cell_type": "code",
   "execution_count": 67,
   "metadata": {},
   "outputs": [
    {
     "data": {
      "text/html": [
       "<div>\n",
       "<style scoped>\n",
       "    .dataframe tbody tr th:only-of-type {\n",
       "        vertical-align: middle;\n",
       "    }\n",
       "\n",
       "    .dataframe tbody tr th {\n",
       "        vertical-align: top;\n",
       "    }\n",
       "\n",
       "    .dataframe thead th {\n",
       "        text-align: right;\n",
       "    }\n",
       "</style>\n",
       "<table border=\"1\" class=\"dataframe\">\n",
       "  <thead>\n",
       "    <tr style=\"text-align: right;\">\n",
       "      <th></th>\n",
       "      <th>fit</th>\n",
       "      <th>user_id</th>\n",
       "      <th>bust_size</th>\n",
       "      <th>item_id</th>\n",
       "      <th>weight</th>\n",
       "      <th>rating</th>\n",
       "      <th>rented_for</th>\n",
       "      <th>review_text</th>\n",
       "      <th>body_type</th>\n",
       "      <th>review_summary</th>\n",
       "      <th>category</th>\n",
       "      <th>height</th>\n",
       "      <th>size</th>\n",
       "      <th>age</th>\n",
       "      <th>review_date</th>\n",
       "      <th>processed_review</th>\n",
       "    </tr>\n",
       "  </thead>\n",
       "  <tbody>\n",
       "    <tr>\n",
       "      <th>0</th>\n",
       "      <td>fit</td>\n",
       "      <td>420272</td>\n",
       "      <td>34d</td>\n",
       "      <td>2260466</td>\n",
       "      <td>137.0</td>\n",
       "      <td>5</td>\n",
       "      <td>vacation</td>\n",
       "      <td>An adorable romper! Belt and zipper were a lit...</td>\n",
       "      <td>hourglass</td>\n",
       "      <td>So many compliments!</td>\n",
       "      <td>romper</td>\n",
       "      <td>172.72</td>\n",
       "      <td>14</td>\n",
       "      <td>28.0</td>\n",
       "      <td>April 20, 2016</td>\n",
       "      <td>[ador, romper, belt, zipper, littl, hard, navi...</td>\n",
       "    </tr>\n",
       "    <tr>\n",
       "      <th>1</th>\n",
       "      <td>fit</td>\n",
       "      <td>273551</td>\n",
       "      <td>34b</td>\n",
       "      <td>153475</td>\n",
       "      <td>132.0</td>\n",
       "      <td>5</td>\n",
       "      <td>other</td>\n",
       "      <td>I rented this dress for a photo shoot. The the...</td>\n",
       "      <td>straight &amp; narrow</td>\n",
       "      <td>I felt so glamourous!!!</td>\n",
       "      <td>gown</td>\n",
       "      <td>167.64</td>\n",
       "      <td>12</td>\n",
       "      <td>36.0</td>\n",
       "      <td>June 18, 2013</td>\n",
       "      <td>[rent, dress, photo, shoot, theme, hollywood, ...</td>\n",
       "    </tr>\n",
       "    <tr>\n",
       "      <th>3</th>\n",
       "      <td>fit</td>\n",
       "      <td>909926</td>\n",
       "      <td>34c</td>\n",
       "      <td>126335</td>\n",
       "      <td>135.0</td>\n",
       "      <td>4</td>\n",
       "      <td>formal affair</td>\n",
       "      <td>I rented this for my company's black tie award...</td>\n",
       "      <td>pear</td>\n",
       "      <td>Dress arrived on time and in perfect condition.</td>\n",
       "      <td>dress</td>\n",
       "      <td>165.10</td>\n",
       "      <td>8</td>\n",
       "      <td>34.0</td>\n",
       "      <td>February 12, 2014</td>\n",
       "      <td>[rent, compani, black, tie, award, banquet, li...</td>\n",
       "    </tr>\n",
       "    <tr>\n",
       "      <th>4</th>\n",
       "      <td>fit</td>\n",
       "      <td>151944</td>\n",
       "      <td>34b</td>\n",
       "      <td>616682</td>\n",
       "      <td>145.0</td>\n",
       "      <td>5</td>\n",
       "      <td>wedding</td>\n",
       "      <td>I have always been petite in my upper body and...</td>\n",
       "      <td>athletic</td>\n",
       "      <td>Was in love with this dress !!!</td>\n",
       "      <td>gown</td>\n",
       "      <td>175.26</td>\n",
       "      <td>12</td>\n",
       "      <td>27.0</td>\n",
       "      <td>September 26, 2016</td>\n",
       "      <td>[alway, petit, upper, bodi, extrem, athlet, ty...</td>\n",
       "    </tr>\n",
       "    <tr>\n",
       "      <th>5</th>\n",
       "      <td>fit</td>\n",
       "      <td>734848</td>\n",
       "      <td>32b</td>\n",
       "      <td>364092</td>\n",
       "      <td>138.0</td>\n",
       "      <td>4</td>\n",
       "      <td>date</td>\n",
       "      <td>Didn't actually wear it. It fit perfectly. The...</td>\n",
       "      <td>athletic</td>\n",
       "      <td>Traditional with a touch a sass</td>\n",
       "      <td>dress</td>\n",
       "      <td>172.72</td>\n",
       "      <td>8</td>\n",
       "      <td>45.0</td>\n",
       "      <td>April 30, 2016</td>\n",
       "      <td>[actual, wear, fit, perfectli, fabric, littl, ...</td>\n",
       "    </tr>\n",
       "    <tr>\n",
       "      <th>...</th>\n",
       "      <td>...</td>\n",
       "      <td>...</td>\n",
       "      <td>...</td>\n",
       "      <td>...</td>\n",
       "      <td>...</td>\n",
       "      <td>...</td>\n",
       "      <td>...</td>\n",
       "      <td>...</td>\n",
       "      <td>...</td>\n",
       "      <td>...</td>\n",
       "      <td>...</td>\n",
       "      <td>...</td>\n",
       "      <td>...</td>\n",
       "      <td>...</td>\n",
       "      <td>...</td>\n",
       "      <td>...</td>\n",
       "    </tr>\n",
       "    <tr>\n",
       "      <th>192539</th>\n",
       "      <td>fit</td>\n",
       "      <td>66386</td>\n",
       "      <td>34dd</td>\n",
       "      <td>2252812</td>\n",
       "      <td>140.0</td>\n",
       "      <td>5</td>\n",
       "      <td>work</td>\n",
       "      <td>Fit like a glove!</td>\n",
       "      <td>hourglass</td>\n",
       "      <td>LOVE IT!!! First Item Im thinking of buying!</td>\n",
       "      <td>jumpsuit</td>\n",
       "      <td>175.26</td>\n",
       "      <td>8</td>\n",
       "      <td>42.0</td>\n",
       "      <td>May 18, 2016</td>\n",
       "      <td>[fit, like, glove]</td>\n",
       "    </tr>\n",
       "    <tr>\n",
       "      <th>192540</th>\n",
       "      <td>fit</td>\n",
       "      <td>118398</td>\n",
       "      <td>32c</td>\n",
       "      <td>682043</td>\n",
       "      <td>100.0</td>\n",
       "      <td>5</td>\n",
       "      <td>work</td>\n",
       "      <td>The pattern contrast on this dress is really s...</td>\n",
       "      <td>petite</td>\n",
       "      <td>LOVE it!</td>\n",
       "      <td>dress</td>\n",
       "      <td>154.94</td>\n",
       "      <td>4</td>\n",
       "      <td>29.0</td>\n",
       "      <td>September 30, 2016</td>\n",
       "      <td>[pattern, contrast, dress, realli, stun, usual...</td>\n",
       "    </tr>\n",
       "    <tr>\n",
       "      <th>192541</th>\n",
       "      <td>fit</td>\n",
       "      <td>47002</td>\n",
       "      <td>36a</td>\n",
       "      <td>683251</td>\n",
       "      <td>135.0</td>\n",
       "      <td>3</td>\n",
       "      <td>everyday</td>\n",
       "      <td>Like the other DVF wraps, the fit on this is f...</td>\n",
       "      <td>straight &amp; narrow</td>\n",
       "      <td>Loud patterning, flattering fit</td>\n",
       "      <td>dress</td>\n",
       "      <td>172.72</td>\n",
       "      <td>8</td>\n",
       "      <td>31.0</td>\n",
       "      <td>March 4, 2016</td>\n",
       "      <td>[like, dvf, wrap, fit, fantast, albeit, collar...</td>\n",
       "    </tr>\n",
       "    <tr>\n",
       "      <th>192542</th>\n",
       "      <td>fit</td>\n",
       "      <td>961120</td>\n",
       "      <td>36c</td>\n",
       "      <td>126335</td>\n",
       "      <td>165.0</td>\n",
       "      <td>5</td>\n",
       "      <td>wedding</td>\n",
       "      <td>This dress was PERFECTION.  it looked incredib...</td>\n",
       "      <td>pear</td>\n",
       "      <td>loved this dress it was comfortable and photog...</td>\n",
       "      <td>dress</td>\n",
       "      <td>167.64</td>\n",
       "      <td>16</td>\n",
       "      <td>31.0</td>\n",
       "      <td>November 25, 2015</td>\n",
       "      <td>[dress, perfect, look, incred, photo, love, we...</td>\n",
       "    </tr>\n",
       "    <tr>\n",
       "      <th>192543</th>\n",
       "      <td>fit</td>\n",
       "      <td>123612</td>\n",
       "      <td>36b</td>\n",
       "      <td>127865</td>\n",
       "      <td>155.0</td>\n",
       "      <td>5</td>\n",
       "      <td>wedding</td>\n",
       "      <td>This dress was wonderful! I had originally pla...</td>\n",
       "      <td>athletic</td>\n",
       "      <td>I wore this to a beautiful black tie optional ...</td>\n",
       "      <td>gown</td>\n",
       "      <td>167.64</td>\n",
       "      <td>16</td>\n",
       "      <td>30.0</td>\n",
       "      <td>August 29, 2017</td>\n",
       "      <td>[dress, wonder, origin, plan, wear, bcbg, maxa...</td>\n",
       "    </tr>\n",
       "  </tbody>\n",
       "</table>\n",
       "<p>192387 rows × 16 columns</p>\n",
       "</div>"
      ],
      "text/plain": [
       "        fit  user_id bust_size  item_id  weight  rating     rented_for  \\\n",
       "0       fit   420272       34d  2260466   137.0       5       vacation   \n",
       "1       fit   273551       34b   153475   132.0       5          other   \n",
       "3       fit   909926       34c   126335   135.0       4  formal affair   \n",
       "4       fit   151944       34b   616682   145.0       5        wedding   \n",
       "5       fit   734848       32b   364092   138.0       4           date   \n",
       "...     ...      ...       ...      ...     ...     ...            ...   \n",
       "192539  fit    66386      34dd  2252812   140.0       5           work   \n",
       "192540  fit   118398       32c   682043   100.0       5           work   \n",
       "192541  fit    47002       36a   683251   135.0       3       everyday   \n",
       "192542  fit   961120       36c   126335   165.0       5        wedding   \n",
       "192543  fit   123612       36b   127865   155.0       5        wedding   \n",
       "\n",
       "                                              review_text          body_type  \\\n",
       "0       An adorable romper! Belt and zipper were a lit...          hourglass   \n",
       "1       I rented this dress for a photo shoot. The the...  straight & narrow   \n",
       "3       I rented this for my company's black tie award...               pear   \n",
       "4       I have always been petite in my upper body and...           athletic   \n",
       "5       Didn't actually wear it. It fit perfectly. The...           athletic   \n",
       "...                                                   ...                ...   \n",
       "192539                                  Fit like a glove!          hourglass   \n",
       "192540  The pattern contrast on this dress is really s...             petite   \n",
       "192541  Like the other DVF wraps, the fit on this is f...  straight & narrow   \n",
       "192542  This dress was PERFECTION.  it looked incredib...               pear   \n",
       "192543  This dress was wonderful! I had originally pla...           athletic   \n",
       "\n",
       "                                           review_summary  category  height  \\\n",
       "0                                    So many compliments!    romper  172.72   \n",
       "1                                 I felt so glamourous!!!      gown  167.64   \n",
       "3        Dress arrived on time and in perfect condition.      dress  165.10   \n",
       "4                         Was in love with this dress !!!      gown  175.26   \n",
       "5                         Traditional with a touch a sass     dress  172.72   \n",
       "...                                                   ...       ...     ...   \n",
       "192539       LOVE IT!!! First Item Im thinking of buying!  jumpsuit  175.26   \n",
       "192540                                           LOVE it!     dress  154.94   \n",
       "192541                    Loud patterning, flattering fit     dress  172.72   \n",
       "192542  loved this dress it was comfortable and photog...     dress  167.64   \n",
       "192543  I wore this to a beautiful black tie optional ...      gown  167.64   \n",
       "\n",
       "        size   age         review_date  \\\n",
       "0         14  28.0      April 20, 2016   \n",
       "1         12  36.0       June 18, 2013   \n",
       "3          8  34.0   February 12, 2014   \n",
       "4         12  27.0  September 26, 2016   \n",
       "5          8  45.0      April 30, 2016   \n",
       "...      ...   ...                 ...   \n",
       "192539     8  42.0        May 18, 2016   \n",
       "192540     4  29.0  September 30, 2016   \n",
       "192541     8  31.0       March 4, 2016   \n",
       "192542    16  31.0   November 25, 2015   \n",
       "192543    16  30.0     August 29, 2017   \n",
       "\n",
       "                                         processed_review  \n",
       "0       [ador, romper, belt, zipper, littl, hard, navi...  \n",
       "1       [rent, dress, photo, shoot, theme, hollywood, ...  \n",
       "3       [rent, compani, black, tie, award, banquet, li...  \n",
       "4       [alway, petit, upper, bodi, extrem, athlet, ty...  \n",
       "5       [actual, wear, fit, perfectli, fabric, littl, ...  \n",
       "...                                                   ...  \n",
       "192539                                 [fit, like, glove]  \n",
       "192540  [pattern, contrast, dress, realli, stun, usual...  \n",
       "192541  [like, dvf, wrap, fit, fantast, albeit, collar...  \n",
       "192542  [dress, perfect, look, incred, photo, love, we...  \n",
       "192543  [dress, wonder, origin, plan, wear, bcbg, maxa...  \n",
       "\n",
       "[192387 rows x 16 columns]"
      ]
     },
     "execution_count": 67,
     "metadata": {},
     "output_type": "execute_result"
    }
   ],
   "source": [
    "df"
   ]
  },
  {
   "cell_type": "markdown",
   "metadata": {},
   "source": [
    "# 4. Building the Recommendation System"
   ]
  },
  {
   "cell_type": "code",
   "execution_count": 68,
   "metadata": {},
   "outputs": [],
   "source": [
    "# !pip install textblob"
   ]
  },
  {
   "cell_type": "code",
   "execution_count": 69,
   "metadata": {},
   "outputs": [
    {
     "data": {
      "text/html": [
       "<div>\n",
       "<style scoped>\n",
       "    .dataframe tbody tr th:only-of-type {\n",
       "        vertical-align: middle;\n",
       "    }\n",
       "\n",
       "    .dataframe tbody tr th {\n",
       "        vertical-align: top;\n",
       "    }\n",
       "\n",
       "    .dataframe thead th {\n",
       "        text-align: right;\n",
       "    }\n",
       "</style>\n",
       "<table border=\"1\" class=\"dataframe\">\n",
       "  <thead>\n",
       "    <tr style=\"text-align: right;\">\n",
       "      <th></th>\n",
       "      <th>rating</th>\n",
       "      <th>review_summary</th>\n",
       "      <th>sentiment_score</th>\n",
       "      <th>hybrid_rating</th>\n",
       "    </tr>\n",
       "  </thead>\n",
       "  <tbody>\n",
       "    <tr>\n",
       "      <th>0</th>\n",
       "      <td>5</td>\n",
       "      <td>So many compliments!</td>\n",
       "      <td>0.625000</td>\n",
       "      <td>5.625000</td>\n",
       "    </tr>\n",
       "    <tr>\n",
       "      <th>1</th>\n",
       "      <td>5</td>\n",
       "      <td>I felt so glamourous!!!</td>\n",
       "      <td>0.000000</td>\n",
       "      <td>5.000000</td>\n",
       "    </tr>\n",
       "    <tr>\n",
       "      <th>3</th>\n",
       "      <td>4</td>\n",
       "      <td>Dress arrived on time and in perfect condition.</td>\n",
       "      <td>1.000000</td>\n",
       "      <td>5.000000</td>\n",
       "    </tr>\n",
       "    <tr>\n",
       "      <th>4</th>\n",
       "      <td>5</td>\n",
       "      <td>Was in love with this dress !!!</td>\n",
       "      <td>0.976562</td>\n",
       "      <td>5.976562</td>\n",
       "    </tr>\n",
       "    <tr>\n",
       "      <th>5</th>\n",
       "      <td>4</td>\n",
       "      <td>Traditional with a touch a sass</td>\n",
       "      <td>0.000000</td>\n",
       "      <td>4.000000</td>\n",
       "    </tr>\n",
       "    <tr>\n",
       "      <th>6</th>\n",
       "      <td>5</td>\n",
       "      <td>LITERALLY THE CUTEST DRESS EVER</td>\n",
       "      <td>0.000000</td>\n",
       "      <td>5.000000</td>\n",
       "    </tr>\n",
       "    <tr>\n",
       "      <th>7</th>\n",
       "      <td>5</td>\n",
       "      <td>Great dress, beautifully made.  I received lot...</td>\n",
       "      <td>0.900000</td>\n",
       "      <td>5.900000</td>\n",
       "    </tr>\n",
       "    <tr>\n",
       "      <th>8</th>\n",
       "      <td>5</td>\n",
       "      <td>Great for black tie event!</td>\n",
       "      <td>0.295833</td>\n",
       "      <td>5.295833</td>\n",
       "    </tr>\n",
       "    <tr>\n",
       "      <th>9</th>\n",
       "      <td>5</td>\n",
       "      <td>This dress was everything! It was perfect for ...</td>\n",
       "      <td>1.000000</td>\n",
       "      <td>6.000000</td>\n",
       "    </tr>\n",
       "    <tr>\n",
       "      <th>10</th>\n",
       "      <td>4</td>\n",
       "      <td>It was fun to wear a dress I wouldn't normally...</td>\n",
       "      <td>0.243750</td>\n",
       "      <td>4.243750</td>\n",
       "    </tr>\n",
       "  </tbody>\n",
       "</table>\n",
       "</div>"
      ],
      "text/plain": [
       "    rating                                     review_summary  \\\n",
       "0        5                               So many compliments!   \n",
       "1        5                            I felt so glamourous!!!   \n",
       "3        4   Dress arrived on time and in perfect condition.    \n",
       "4        5                    Was in love with this dress !!!   \n",
       "5        4                    Traditional with a touch a sass   \n",
       "6        5                    LITERALLY THE CUTEST DRESS EVER   \n",
       "7        5  Great dress, beautifully made.  I received lot...   \n",
       "8        5                         Great for black tie event!   \n",
       "9        5  This dress was everything! It was perfect for ...   \n",
       "10       4  It was fun to wear a dress I wouldn't normally...   \n",
       "\n",
       "    sentiment_score  hybrid_rating  \n",
       "0          0.625000       5.625000  \n",
       "1          0.000000       5.000000  \n",
       "3          1.000000       5.000000  \n",
       "4          0.976562       5.976562  \n",
       "5          0.000000       4.000000  \n",
       "6          0.000000       5.000000  \n",
       "7          0.900000       5.900000  \n",
       "8          0.295833       5.295833  \n",
       "9          1.000000       6.000000  \n",
       "10         0.243750       4.243750  "
      ]
     },
     "execution_count": 69,
     "metadata": {},
     "output_type": "execute_result"
    }
   ],
   "source": [
    "from textblob import TextBlob  # For sentiment analysis\n",
    "\n",
    "# Calculate sentiment scores for review summaries\n",
    "df['sentiment_score'] = df['review_summary'].apply(lambda x: TextBlob(str(x)).sentiment.polarity)\n",
    "\n",
    "# Combine rating and sentiment to create hybrid_rating\n",
    "df['hybrid_rating'] = df['rating'] + df['sentiment_score']\n",
    "\n",
    "# Display the modified DataFrame\n",
    "df[['rating', 'review_summary', 'sentiment_score', 'hybrid_rating']].head(10)"
   ]
  },
  {
   "cell_type": "code",
   "execution_count": 70,
   "metadata": {},
   "outputs": [
    {
     "data": {
      "text/html": [
       "<div>\n",
       "<style scoped>\n",
       "    .dataframe tbody tr th:only-of-type {\n",
       "        vertical-align: middle;\n",
       "    }\n",
       "\n",
       "    .dataframe tbody tr th {\n",
       "        vertical-align: top;\n",
       "    }\n",
       "\n",
       "    .dataframe thead th {\n",
       "        text-align: right;\n",
       "    }\n",
       "</style>\n",
       "<table border=\"1\" class=\"dataframe\">\n",
       "  <thead>\n",
       "    <tr style=\"text-align: right;\">\n",
       "      <th></th>\n",
       "      <th>fit</th>\n",
       "      <th>user_id</th>\n",
       "      <th>bust_size</th>\n",
       "      <th>item_id</th>\n",
       "      <th>weight</th>\n",
       "      <th>rating</th>\n",
       "      <th>rented_for</th>\n",
       "      <th>review_text</th>\n",
       "      <th>body_type</th>\n",
       "      <th>review_summary</th>\n",
       "      <th>category</th>\n",
       "      <th>height</th>\n",
       "      <th>size</th>\n",
       "      <th>age</th>\n",
       "      <th>review_date</th>\n",
       "      <th>processed_review</th>\n",
       "      <th>sentiment_score</th>\n",
       "      <th>hybrid_rating</th>\n",
       "    </tr>\n",
       "  </thead>\n",
       "  <tbody>\n",
       "    <tr>\n",
       "      <th>0</th>\n",
       "      <td>fit</td>\n",
       "      <td>420272</td>\n",
       "      <td>34d</td>\n",
       "      <td>2260466</td>\n",
       "      <td>137.0</td>\n",
       "      <td>5</td>\n",
       "      <td>vacation</td>\n",
       "      <td>An adorable romper! Belt and zipper were a lit...</td>\n",
       "      <td>hourglass</td>\n",
       "      <td>So many compliments!</td>\n",
       "      <td>romper</td>\n",
       "      <td>172.72</td>\n",
       "      <td>14</td>\n",
       "      <td>28.0</td>\n",
       "      <td>April 20, 2016</td>\n",
       "      <td>[ador, romper, belt, zipper, littl, hard, navi...</td>\n",
       "      <td>0.625000</td>\n",
       "      <td>5.625000</td>\n",
       "    </tr>\n",
       "    <tr>\n",
       "      <th>1</th>\n",
       "      <td>fit</td>\n",
       "      <td>273551</td>\n",
       "      <td>34b</td>\n",
       "      <td>153475</td>\n",
       "      <td>132.0</td>\n",
       "      <td>5</td>\n",
       "      <td>other</td>\n",
       "      <td>I rented this dress for a photo shoot. The the...</td>\n",
       "      <td>straight &amp; narrow</td>\n",
       "      <td>I felt so glamourous!!!</td>\n",
       "      <td>gown</td>\n",
       "      <td>167.64</td>\n",
       "      <td>12</td>\n",
       "      <td>36.0</td>\n",
       "      <td>June 18, 2013</td>\n",
       "      <td>[rent, dress, photo, shoot, theme, hollywood, ...</td>\n",
       "      <td>0.000000</td>\n",
       "      <td>5.000000</td>\n",
       "    </tr>\n",
       "    <tr>\n",
       "      <th>3</th>\n",
       "      <td>fit</td>\n",
       "      <td>909926</td>\n",
       "      <td>34c</td>\n",
       "      <td>126335</td>\n",
       "      <td>135.0</td>\n",
       "      <td>4</td>\n",
       "      <td>formal affair</td>\n",
       "      <td>I rented this for my company's black tie award...</td>\n",
       "      <td>pear</td>\n",
       "      <td>Dress arrived on time and in perfect condition.</td>\n",
       "      <td>dress</td>\n",
       "      <td>165.10</td>\n",
       "      <td>8</td>\n",
       "      <td>34.0</td>\n",
       "      <td>February 12, 2014</td>\n",
       "      <td>[rent, compani, black, tie, award, banquet, li...</td>\n",
       "      <td>1.000000</td>\n",
       "      <td>5.000000</td>\n",
       "    </tr>\n",
       "    <tr>\n",
       "      <th>4</th>\n",
       "      <td>fit</td>\n",
       "      <td>151944</td>\n",
       "      <td>34b</td>\n",
       "      <td>616682</td>\n",
       "      <td>145.0</td>\n",
       "      <td>5</td>\n",
       "      <td>wedding</td>\n",
       "      <td>I have always been petite in my upper body and...</td>\n",
       "      <td>athletic</td>\n",
       "      <td>Was in love with this dress !!!</td>\n",
       "      <td>gown</td>\n",
       "      <td>175.26</td>\n",
       "      <td>12</td>\n",
       "      <td>27.0</td>\n",
       "      <td>September 26, 2016</td>\n",
       "      <td>[alway, petit, upper, bodi, extrem, athlet, ty...</td>\n",
       "      <td>0.976562</td>\n",
       "      <td>5.976562</td>\n",
       "    </tr>\n",
       "    <tr>\n",
       "      <th>5</th>\n",
       "      <td>fit</td>\n",
       "      <td>734848</td>\n",
       "      <td>32b</td>\n",
       "      <td>364092</td>\n",
       "      <td>138.0</td>\n",
       "      <td>4</td>\n",
       "      <td>date</td>\n",
       "      <td>Didn't actually wear it. It fit perfectly. The...</td>\n",
       "      <td>athletic</td>\n",
       "      <td>Traditional with a touch a sass</td>\n",
       "      <td>dress</td>\n",
       "      <td>172.72</td>\n",
       "      <td>8</td>\n",
       "      <td>45.0</td>\n",
       "      <td>April 30, 2016</td>\n",
       "      <td>[actual, wear, fit, perfectli, fabric, littl, ...</td>\n",
       "      <td>0.000000</td>\n",
       "      <td>4.000000</td>\n",
       "    </tr>\n",
       "  </tbody>\n",
       "</table>\n",
       "</div>"
      ],
      "text/plain": [
       "   fit  user_id bust_size  item_id  weight  rating     rented_for  \\\n",
       "0  fit   420272       34d  2260466   137.0       5       vacation   \n",
       "1  fit   273551       34b   153475   132.0       5          other   \n",
       "3  fit   909926       34c   126335   135.0       4  formal affair   \n",
       "4  fit   151944       34b   616682   145.0       5        wedding   \n",
       "5  fit   734848       32b   364092   138.0       4           date   \n",
       "\n",
       "                                         review_text          body_type  \\\n",
       "0  An adorable romper! Belt and zipper were a lit...          hourglass   \n",
       "1  I rented this dress for a photo shoot. The the...  straight & narrow   \n",
       "3  I rented this for my company's black tie award...               pear   \n",
       "4  I have always been petite in my upper body and...           athletic   \n",
       "5  Didn't actually wear it. It fit perfectly. The...           athletic   \n",
       "\n",
       "                                     review_summary category  height  size  \\\n",
       "0                              So many compliments!   romper  172.72    14   \n",
       "1                           I felt so glamourous!!!     gown  167.64    12   \n",
       "3  Dress arrived on time and in perfect condition.     dress  165.10     8   \n",
       "4                   Was in love with this dress !!!     gown  175.26    12   \n",
       "5                   Traditional with a touch a sass    dress  172.72     8   \n",
       "\n",
       "    age         review_date  \\\n",
       "0  28.0      April 20, 2016   \n",
       "1  36.0       June 18, 2013   \n",
       "3  34.0   February 12, 2014   \n",
       "4  27.0  September 26, 2016   \n",
       "5  45.0      April 30, 2016   \n",
       "\n",
       "                                    processed_review  sentiment_score  \\\n",
       "0  [ador, romper, belt, zipper, littl, hard, navi...         0.625000   \n",
       "1  [rent, dress, photo, shoot, theme, hollywood, ...         0.000000   \n",
       "3  [rent, compani, black, tie, award, banquet, li...         1.000000   \n",
       "4  [alway, petit, upper, bodi, extrem, athlet, ty...         0.976562   \n",
       "5  [actual, wear, fit, perfectli, fabric, littl, ...         0.000000   \n",
       "\n",
       "   hybrid_rating  \n",
       "0       5.625000  \n",
       "1       5.000000  \n",
       "3       5.000000  \n",
       "4       5.976562  \n",
       "5       4.000000  "
      ]
     },
     "execution_count": 70,
     "metadata": {},
     "output_type": "execute_result"
    }
   ],
   "source": [
    "df.head()"
   ]
  },
  {
   "cell_type": "code",
   "execution_count": 71,
   "metadata": {},
   "outputs": [
    {
     "name": "stdout",
     "output_type": "stream",
     "text": [
      "RMSE: 0.8394\n",
      "Root Mean Squared Error (RMSE): 0.8393871484202438\n"
     ]
    }
   ],
   "source": [
    "from surprise import Dataset, Reader, SVD\n",
    "from surprise.model_selection import train_test_split\n",
    "from surprise import accuracy\n",
    "\n",
    "# Assuming df3 is your DataFrame with the hybrid_rating column\n",
    "reader = Reader(rating_scale=(df['hybrid_rating'].min(), df['hybrid_rating'].max()))\n",
    "data = Dataset.load_from_df(df[['user_id', 'item_id', 'hybrid_rating']], reader)\n",
    "\n",
    "# Split the dataset\n",
    "trainset, testset = train_test_split(data, test_size=0.2)\n",
    "\n",
    "# Use SVD as an example collaborative filtering algorithm\n",
    "model = SVD()\n",
    "model.fit(trainset)\n",
    "\n",
    "# Make predictions on the test set\n",
    "predictions = model.test(testset)\n",
    "\n",
    "# Evaluate the model\n",
    "rmse = accuracy.rmse(predictions)\n",
    "print(f\"Root Mean Squared Error (RMSE): {rmse}\")"
   ]
  },
  {
   "cell_type": "code",
   "execution_count": 72,
   "metadata": {},
   "outputs": [
    {
     "data": {
      "text/plain": [
       "Prediction(uid='328254', iid='1505652', r_ui='8.15', est=4.999852058724677, details={'was_impossible': False})"
      ]
     },
     "execution_count": 72,
     "metadata": {},
     "output_type": "execute_result"
    }
   ],
   "source": [
    "# Making a prediction\n",
    "user_328254_prediction = model.predict(\"328254\", \"1505652\", \"8.15\" )\n",
    "user_328254_prediction"
   ]
  },
  {
   "cell_type": "code",
   "execution_count": 73,
   "metadata": {},
   "outputs": [
    {
     "data": {
      "text/html": [
       "<div>\n",
       "<style scoped>\n",
       "    .dataframe tbody tr th:only-of-type {\n",
       "        vertical-align: middle;\n",
       "    }\n",
       "\n",
       "    .dataframe tbody tr th {\n",
       "        vertical-align: top;\n",
       "    }\n",
       "\n",
       "    .dataframe thead th {\n",
       "        text-align: right;\n",
       "    }\n",
       "</style>\n",
       "<table border=\"1\" class=\"dataframe\">\n",
       "  <thead>\n",
       "    <tr style=\"text-align: right;\">\n",
       "      <th></th>\n",
       "      <th>fit</th>\n",
       "      <th>user_id</th>\n",
       "      <th>bust_size</th>\n",
       "      <th>item_id</th>\n",
       "      <th>weight</th>\n",
       "      <th>rating</th>\n",
       "      <th>rented_for</th>\n",
       "      <th>review_text</th>\n",
       "      <th>body_type</th>\n",
       "      <th>review_summary</th>\n",
       "      <th>category</th>\n",
       "      <th>height</th>\n",
       "      <th>size</th>\n",
       "      <th>age</th>\n",
       "      <th>review_date</th>\n",
       "      <th>processed_review</th>\n",
       "      <th>sentiment_score</th>\n",
       "      <th>hybrid_rating</th>\n",
       "    </tr>\n",
       "  </thead>\n",
       "  <tbody>\n",
       "    <tr>\n",
       "      <th>4045</th>\n",
       "      <td>large</td>\n",
       "      <td>328254</td>\n",
       "      <td>32b</td>\n",
       "      <td>1453647</td>\n",
       "      <td>120.0</td>\n",
       "      <td>5</td>\n",
       "      <td>other</td>\n",
       "      <td>Loved this dress! Very comfortable, works with...</td>\n",
       "      <td>straight &amp; narrow</td>\n",
       "      <td>Comfort - many compliments.</td>\n",
       "      <td>dress</td>\n",
       "      <td>162.56</td>\n",
       "      <td>4</td>\n",
       "      <td>32.0</td>\n",
       "      <td>August 28, 2017</td>\n",
       "      <td>[love, dress, comfort, work, strapless, bra, s...</td>\n",
       "      <td>0.50</td>\n",
       "      <td>5.50</td>\n",
       "    </tr>\n",
       "    <tr>\n",
       "      <th>192494</th>\n",
       "      <td>fit</td>\n",
       "      <td>328254</td>\n",
       "      <td>32b</td>\n",
       "      <td>1505652</td>\n",
       "      <td>120.0</td>\n",
       "      <td>4</td>\n",
       "      <td>other</td>\n",
       "      <td>Fit was great - as described.</td>\n",
       "      <td>straight &amp; narrow</td>\n",
       "      <td>Rented this for the Christening of our daughte...</td>\n",
       "      <td>maxi</td>\n",
       "      <td>162.56</td>\n",
       "      <td>4</td>\n",
       "      <td>32.0</td>\n",
       "      <td>August 21, 2017</td>\n",
       "      <td>[fit, great, describ]</td>\n",
       "      <td>0.15</td>\n",
       "      <td>4.15</td>\n",
       "    </tr>\n",
       "  </tbody>\n",
       "</table>\n",
       "</div>"
      ],
      "text/plain": [
       "          fit  user_id bust_size  item_id  weight  rating rented_for  \\\n",
       "4045    large   328254       32b  1453647   120.0       5      other   \n",
       "192494    fit   328254       32b  1505652   120.0       4      other   \n",
       "\n",
       "                                              review_text          body_type  \\\n",
       "4045    Loved this dress! Very comfortable, works with...  straight & narrow   \n",
       "192494                     Fit was great - as described.   straight & narrow   \n",
       "\n",
       "                                           review_summary category  height  \\\n",
       "4045                          Comfort - many compliments.    dress  162.56   \n",
       "192494  Rented this for the Christening of our daughte...     maxi  162.56   \n",
       "\n",
       "        size   age      review_date  \\\n",
       "4045       4  32.0  August 28, 2017   \n",
       "192494     4  32.0  August 21, 2017   \n",
       "\n",
       "                                         processed_review  sentiment_score  \\\n",
       "4045    [love, dress, comfort, work, strapless, bra, s...             0.50   \n",
       "192494                              [fit, great, describ]             0.15   \n",
       "\n",
       "        hybrid_rating  \n",
       "4045             5.50  \n",
       "192494           4.15  "
      ]
     },
     "execution_count": 73,
     "metadata": {},
     "output_type": "execute_result"
    }
   ],
   "source": [
    "df[df['user_id']==328254]"
   ]
  },
  {
   "cell_type": "code",
   "execution_count": 74,
   "metadata": {},
   "outputs": [
    {
     "name": "stdout",
     "output_type": "stream",
     "text": [
      "Parameters: {'n_epochs': 5, 'lr_all': 0.002, 'reg_all': 0.02}\n",
      "Mean RMSE across folds: 0.8506440917593938\n",
      "\n",
      "Parameters: {'n_epochs': 5, 'lr_all': 0.002, 'reg_all': 0.1}\n",
      "Mean RMSE across folds: 0.8500482228326306\n",
      "\n",
      "Parameters: {'n_epochs': 5, 'lr_all': 0.002, 'reg_all': 0.4}\n",
      "Mean RMSE across folds: 0.8501830340467048\n",
      "\n",
      "Parameters: {'n_epochs': 5, 'lr_all': 0.005, 'reg_all': 0.02}\n",
      "Mean RMSE across folds: 0.844796458196133\n",
      "\n",
      "Parameters: {'n_epochs': 5, 'lr_all': 0.005, 'reg_all': 0.1}\n",
      "Mean RMSE across folds: 0.8445602455893338\n",
      "\n",
      "Parameters: {'n_epochs': 5, 'lr_all': 0.005, 'reg_all': 0.4}\n",
      "Mean RMSE across folds: 0.8442932220125706\n",
      "\n",
      "Parameters: {'n_epochs': 5, 'lr_all': 0.01, 'reg_all': 0.02}\n",
      "Mean RMSE across folds: 0.8427620118345457\n",
      "\n",
      "Parameters: {'n_epochs': 5, 'lr_all': 0.01, 'reg_all': 0.1}\n",
      "Mean RMSE across folds: 0.8412389444871134\n",
      "\n",
      "Parameters: {'n_epochs': 5, 'lr_all': 0.01, 'reg_all': 0.4}\n",
      "Mean RMSE across folds: 0.8405560060471764\n",
      "\n",
      "Parameters: {'n_epochs': 10, 'lr_all': 0.002, 'reg_all': 0.02}\n",
      "Mean RMSE across folds: 0.8464713824002482\n",
      "\n",
      "Parameters: {'n_epochs': 10, 'lr_all': 0.002, 'reg_all': 0.1}\n",
      "Mean RMSE across folds: 0.8459563522536039\n",
      "\n",
      "Parameters: {'n_epochs': 10, 'lr_all': 0.002, 'reg_all': 0.4}\n",
      "Mean RMSE across folds: 0.8458017532746241\n",
      "\n",
      "Parameters: {'n_epochs': 10, 'lr_all': 0.005, 'reg_all': 0.02}\n",
      "Mean RMSE across folds: 0.8423104338882735\n",
      "\n",
      "Parameters: {'n_epochs': 10, 'lr_all': 0.005, 'reg_all': 0.1}\n",
      "Mean RMSE across folds: 0.8412966295387488\n",
      "\n",
      "Parameters: {'n_epochs': 10, 'lr_all': 0.005, 'reg_all': 0.4}\n",
      "Mean RMSE across folds: 0.8406566602341684\n",
      "\n",
      "Parameters: {'n_epochs': 10, 'lr_all': 0.01, 'reg_all': 0.02}\n",
      "Mean RMSE across folds: 0.8437432265094258\n",
      "\n",
      "Parameters: {'n_epochs': 10, 'lr_all': 0.01, 'reg_all': 0.1}\n",
      "Mean RMSE across folds: 0.8401388658215486\n",
      "\n",
      "Parameters: {'n_epochs': 10, 'lr_all': 0.01, 'reg_all': 0.4}\n",
      "Mean RMSE across folds: 0.8385097769029525\n",
      "\n",
      "Parameters: {'n_epochs': 15, 'lr_all': 0.002, 'reg_all': 0.02}\n",
      "Mean RMSE across folds: 0.844368416628718\n",
      "\n",
      "Parameters: {'n_epochs': 15, 'lr_all': 0.002, 'reg_all': 0.1}\n",
      "Mean RMSE across folds: 0.8439828749484454\n",
      "\n",
      "Parameters: {'n_epochs': 15, 'lr_all': 0.002, 'reg_all': 0.4}\n",
      "Mean RMSE across folds: 0.8432040137987878\n",
      "\n",
      "Parameters: {'n_epochs': 15, 'lr_all': 0.005, 'reg_all': 0.02}\n",
      "Mean RMSE across folds: 0.842376394467621\n",
      "\n",
      "Parameters: {'n_epochs': 15, 'lr_all': 0.005, 'reg_all': 0.1}\n",
      "Mean RMSE across folds: 0.8402723249826162\n",
      "\n",
      "Parameters: {'n_epochs': 15, 'lr_all': 0.005, 'reg_all': 0.4}\n",
      "Mean RMSE across folds: 0.8392197365335785\n",
      "\n",
      "Parameters: {'n_epochs': 15, 'lr_all': 0.01, 'reg_all': 0.02}\n",
      "Mean RMSE across folds: 0.845526478641694\n",
      "\n",
      "Parameters: {'n_epochs': 15, 'lr_all': 0.01, 'reg_all': 0.1}\n",
      "Mean RMSE across folds: 0.8399900158421388\n",
      "\n",
      "Parameters: {'n_epochs': 15, 'lr_all': 0.01, 'reg_all': 0.4}\n",
      "Mean RMSE across folds: 0.8385595561887785\n",
      "\n"
     ]
    }
   ],
   "source": [
    "from surprise.model_selection import cross_validate\n",
    "from surprise import SVD\n",
    "\n",
    "# Define parameter combinations to try\n",
    "param_combinations = {'n_epochs': [5, 10, 15], 'lr_all': [0.002, 0.005, 0.01], 'reg_all': [0.02, 0.1, 0.4]}\n",
    "\n",
    "# Load the dataset\n",
    "data = Dataset.load_from_df(df[['user_id', 'item_id', 'hybrid_rating']], reader)\n",
    "\n",
    "# Iterate over parameter combinations\n",
    "for n_epochs in param_combinations['n_epochs']:\n",
    "    for lr_all in param_combinations['lr_all']:\n",
    "        for reg_all in param_combinations['reg_all']:\n",
    "            # Create SVD model with current parameters\n",
    "            svd_model = SVD(n_epochs=n_epochs, lr_all=lr_all, reg_all=reg_all)\n",
    "\n",
    "            # Cross-validate the model\n",
    "            results = cross_validate(svd_model, data, measures=['RMSE'], cv=3, verbose=False)\n",
    "\n",
    "            # Print results\n",
    "            print(f\"Parameters: {{'n_epochs': {n_epochs}, 'lr_all': {lr_all}, 'reg_all': {reg_all}}}\")\n",
    "            print(f\"Mean RMSE across folds: {results['test_rmse'].mean()}\\n\")\n"
   ]
  },
  {
   "cell_type": "markdown",
   "metadata": {},
   "source": [
    "Best parameters for our model are:\n",
    "\n",
    "Parameters: {'n_epochs': 10, 'lr_all': 0.01, 'reg_all': 0.4}\n",
    "Mean RMSE across folds: 0.8383306560027012\n",
    "\n",
    "Parameters: {'n_epochs': 15, 'lr_all': 0.01, 'reg_all': 0.4}\n",
    "Mean RMSE across folds: 0.8383746264083918"
   ]
  },
  {
   "cell_type": "code",
   "execution_count": 75,
   "metadata": {},
   "outputs": [
    {
     "data": {
      "text/plain": [
       "<surprise.prediction_algorithms.matrix_factorization.SVD at 0x24b2f6880d0>"
      ]
     },
     "execution_count": 75,
     "metadata": {},
     "output_type": "execute_result"
    }
   ],
   "source": [
    "# Create the final SVD model with optimal parameters\n",
    "final_svd_model = SVD(n_epochs=10, lr_all=0.01, reg_all=0.4)\n",
    "\n",
    "# Load the dataset\n",
    "data = Dataset.load_from_df(df[['user_id', 'item_id', 'hybrid_rating']], reader)\n",
    "\n",
    "# Build the full training set\n",
    "trainset = data.build_full_trainset()\n",
    "\n",
    "# Train the final model on the entire dataset\n",
    "final_svd_model.fit(trainset)"
   ]
  },
  {
   "cell_type": "code",
   "execution_count": 76,
   "metadata": {},
   "outputs": [
    {
     "data": {
      "text/plain": [
       "Prediction(uid='328254', iid='1505652', r_ui='8.15', est=5.000428442407513, details={'was_impossible': False})"
      ]
     },
     "execution_count": 76,
     "metadata": {},
     "output_type": "execute_result"
    }
   ],
   "source": [
    "# Making a prediction\n",
    "user_328254_prediction = final_svd_model.predict(\"328254\", \"1505652\", \"8.15\" )\n",
    "user_328254_prediction"
   ]
  },
  {
   "cell_type": "markdown",
   "metadata": {},
   "source": [
    "Collaborative filtering using ALS"
   ]
  },
  {
   "cell_type": "code",
   "execution_count": 77,
   "metadata": {},
   "outputs": [
    {
     "name": "stdout",
     "output_type": "stream",
     "text": [
      "Mean RMSE across folds: 0.8411441926380764\n",
      "Top 10 Recommendations for User 420272:\n",
      "Item ID: 1547051, Predicted Rating: 5.335849891886469\n",
      "Item ID: 1451390, Predicted Rating: 5.32492742079994\n",
      "Item ID: 1273915, Predicted Rating: 5.288000474483545\n",
      "Item ID: 1330312, Predicted Rating: 5.271578156049345\n",
      "Item ID: 242661, Predicted Rating: 5.2666116808842185\n",
      "Item ID: 1064397, Predicted Rating: 5.263924834507629\n",
      "Item ID: 1142945, Predicted Rating: 5.260516264298086\n",
      "Item ID: 1236359, Predicted Rating: 5.25955804974713\n",
      "Item ID: 241461, Predicted Rating: 5.258388782891663\n",
      "Item ID: 1817701, Predicted Rating: 5.254717432897932\n"
     ]
    }
   ],
   "source": [
    "from surprise import Dataset, Reader\n",
    "from surprise.model_selection import cross_validate\n",
    "from surprise.prediction_algorithms.matrix_factorization import SVD\n",
    "\n",
    "df3 = df\n",
    "\n",
    "# Load the dataset\n",
    "reader = Reader(rating_scale=(df3['hybrid_rating'].min(), df3['hybrid_rating'].max()))\n",
    "data = Dataset.load_from_df(df3[['user_id', 'item_id', 'hybrid_rating']], reader)\n",
    "\n",
    "# Define the SVD model with ALS optimization\n",
    "als_model = SVD(n_factors=50, reg_all=0.02, biased=True)\n",
    "\n",
    "# Evaluate the SVD model using cross-validation\n",
    "cv_results = cross_validate(als_model, data, measures=['RMSE'], cv=3, verbose=False)\n",
    "\n",
    "# Print the mean RMSE across folds\n",
    "print(f\"Mean RMSE across folds: {cv_results['test_rmse'].mean()}\")\n",
    "\n",
    "# Build the full training set\n",
    "trainset = data.build_full_trainset()\n",
    "\n",
    "# Train the SVD model on the entire dataset\n",
    "als_model.fit(trainset)\n",
    "\n",
    "# Make predictions for a specific user (replace user_id with an actual user ID)\n",
    "user_id_to_predict = 420272\n",
    "item_ids_to_predict = df3['item_id'].unique()\n",
    "\n",
    "# Get predictions for the specified user and items\n",
    "predictions = [als_model.predict(user_id_to_predict, item_id) for item_id in item_ids_to_predict]\n",
    "\n",
    "# Extract item IDs and predicted ratings\n",
    "predicted_ratings = [(prediction.iid, prediction.est) for prediction in predictions]\n",
    "\n",
    "# Sort the predictions by rating in descending order\n",
    "sorted_predictions = sorted(predicted_ratings, key=lambda x: x[1], reverse=True)\n",
    "\n",
    "# Display the top N recommended items\n",
    "top_n = 10\n",
    "top_recommendations = sorted_predictions[:top_n]\n",
    "print(f\"Top {top_n} Recommendations for User {user_id_to_predict}:\")\n",
    "for item_id, rating in top_recommendations:\n",
    "    print(f\"Item ID: {item_id}, Predicted Rating: {rating}\")\n"
   ]
  },
  {
   "cell_type": "code",
   "execution_count": 79,
   "metadata": {},
   "outputs": [
    {
     "name": "stdout",
     "output_type": "stream",
     "text": [
      "<class 'pandas.core.frame.DataFrame'>\n",
      "Int64Index: 192387 entries, 0 to 192543\n",
      "Data columns (total 18 columns):\n",
      " #   Column            Non-Null Count   Dtype  \n",
      "---  ------            --------------   -----  \n",
      " 0   fit               192387 non-null  object \n",
      " 1   user_id           192387 non-null  int64  \n",
      " 2   bust_size         192387 non-null  object \n",
      " 3   item_id           192387 non-null  int64  \n",
      " 4   weight            192387 non-null  float64\n",
      " 5   rating            192387 non-null  int64  \n",
      " 6   rented_for        192387 non-null  object \n",
      " 7   review_text       192387 non-null  object \n",
      " 8   body_type         192387 non-null  object \n",
      " 9   review_summary    192387 non-null  object \n",
      " 10  category          192387 non-null  object \n",
      " 11  height            192387 non-null  float64\n",
      " 12  size              192387 non-null  int64  \n",
      " 13  age               192387 non-null  float64\n",
      " 14  review_date       192387 non-null  object \n",
      " 15  processed_review  192387 non-null  object \n",
      " 16  sentiment_score   192387 non-null  float64\n",
      " 17  hybrid_rating     192387 non-null  float64\n",
      "dtypes: float64(5), int64(4), object(9)\n",
      "memory usage: 32.9+ MB\n"
     ]
    }
   ],
   "source": [
    "df.info()"
   ]
  },
  {
   "cell_type": "markdown",
   "metadata": {},
   "source": [
    "NOTE: ALS is often used when dealing with sparse matrices (a matrix with many missing values), as it allows for efficient parallelization and handles missing values well.In this case, our data has no missing values and thus the SVD model fits perfectly."
   ]
  },
  {
   "cell_type": "code",
   "execution_count": 82,
   "metadata": {},
   "outputs": [
    {
     "data": {
      "text/plain": [
       "12399                Curve hugging Herve! dress petite date\n",
       "87123     Wore this 5.5 months pregnant and it fit PERFE...\n",
       "145160    Wonderful dress for vegas - you will stand out...\n",
       "78624                    LOVED IT! sheath hourglass wedding\n",
       "60597               Beautiful dress dress hourglass wedding\n",
       "                                ...                        \n",
       "35105            Super flirty & fun! dress athletic wedding\n",
       "53763                 So many compliments! dress apple date\n",
       "160278    wore this to my son's baptism dress hourglass ...\n",
       "169247                    Cute work top. top hourglass work\n",
       "126528    The dress was a perfect fit and I received awe...\n",
       "Name: content, Length: 20000, dtype: object"
      ]
     },
     "execution_count": 82,
     "metadata": {},
     "output_type": "execute_result"
    }
   ],
   "source": [
    "df_sample['content'] = df_sample['review_summary'].fillna('') + ' ' + df_sample['category'].fillna('') + ' ' + df_sample['body_type'].fillna('') + ' ' + df_sample['rented_for'].fillna('')\n",
    "df_sample['content']"
   ]
  },
  {
   "cell_type": "code",
   "execution_count": 89,
   "metadata": {},
   "outputs": [],
   "source": [
    "from sklearn.feature_extraction.text import TfidfVectorizer\n",
    "from sklearn.decomposition import TruncatedSVD\n",
    "from sklearn.metrics.pairwise import cosine_similarity\n",
    "import pandas as pd\n",
    "import numpy as np\n",
    "\n",
    "# Reduce the sample size\n",
    "sample_size = 20000\n",
    "df_sample = df3.sample(n=sample_size, random_state=42)\n",
    "# df_sample = df\n",
    "\n",
    "# Combine relevant text features into a single column for content-based filtering\n",
    "df_sample['content'] = df_sample['review_summary'].fillna('') + ' ' + df_sample['category'].fillna('') + ' ' \n",
    "                       + df_sample['body_type'].fillna('') + ' ' + df_sample['rented_for'].fillna('')\n",
    "\n",
    "# Create a TF-IDF vectorizer\n",
    "tfidf_vectorizer = TfidfVectorizer(stop_words='english')\n",
    "\n",
    "# Fit and transform the content column\n",
    "tfidf_matrix = tfidf_vectorizer.fit_transform(df_sample['content'])\n",
    "\n",
    "# Implement batch processing for cosine similarity\n",
    "def calculate_cosine_similarity_in_batches(matrix, batch_size=1000):\n",
    "    num_items = matrix.shape[0]\n",
    "    cosine_sim_batches = []\n",
    "\n",
    "    for i in range(0, num_items, batch_size):\n",
    "        start_idx = i\n",
    "        end_idx = min((i + batch_size), num_items)\n",
    "        batch_matrix = matrix[start_idx:end_idx, :]\n",
    "        cosine_sim_batch = cosine_similarity(batch_matrix, matrix, dense_output=False)\n",
    "        cosine_sim_batches.append(cosine_sim_batch)\n",
    "\n",
    "    return np.vstack(cosine_sim_batches)\n",
    "\n",
    "# Calculate cosine similarity in batches\n",
    "cosine_sim = calculate_cosine_similarity_in_batches(tfidf_matrix)\n",
    "\n",
    "# Apply dimensionality reduction using TruncatedSVD\n",
    "num_components = 100\n",
    "svd = TruncatedSVD(n_components=num_components)\n",
    "tfidf_matrix_reduced = svd.fit_transform(tfidf_matrix)\n",
    "cosine_sim_reduced = cosine_similarity(tfidf_matrix_reduced, dense_output=False)"
   ]
  },
  {
   "cell_type": "code",
   "execution_count": 90,
   "metadata": {},
   "outputs": [],
   "source": [
    "# Function to get content-based recommendations for a given item after dimensionality reduction\n",
    "def get_content_based_recommendations_reduced(item_id, cosine_sim=cosine_sim_reduced, df=df_sample, svd=svd):\n",
    "    idx = df[df['item_id'] == item_id].index[0]\n",
    "    sim_scores = list(enumerate(cosine_sim[idx]))\n",
    "    sim_scores = sorted(sim_scores, key=lambda x: x[1], reverse=True)\n",
    "    sim_scores = sim_scores[1:11]  # Exclude the item itself and take top 10\n",
    "    item_indices = [score[0] for score in sim_scores]\n",
    "    return df['item_id'].iloc[item_indices]"
   ]
  },
  {
   "cell_type": "code",
   "execution_count": 92,
   "metadata": {},
   "outputs": [
    {
     "data": {
      "text/plain": [
       "12399     1973037\n",
       "87123     1773535\n",
       "145160     126335\n",
       "78624      137585\n",
       "60597      714374\n",
       "Name: item_id, dtype: int64"
      ]
     },
     "execution_count": 92,
     "metadata": {},
     "output_type": "execute_result"
    }
   ],
   "source": [
    "# Display the items in df_sample\n",
    "df_sample['item_id'].head()"
   ]
  },
  {
   "cell_type": "code",
   "execution_count": 95,
   "metadata": {},
   "outputs": [
    {
     "name": "stdout",
     "output_type": "stream",
     "text": [
      "Content-Based Recommendations (Reduced) for Item 1973037:\n",
      "184171    1479699\n",
      "169693    1379493\n",
      "73834     1424454\n",
      "11752     1530271\n",
      "30206     1607852\n",
      "70882     1574534\n",
      "58452      168012\n",
      "149414     477660\n",
      "41111     1897655\n",
      "82675      999837\n",
      "Name: item_id, dtype: int64\n"
     ]
    }
   ],
   "source": [
    "# Example: Get content-based recommendations for an item\n",
    "item_id_to_recommend_for = 1973037\n",
    "content_based_recommendations_reduced = get_content_based_recommendations_reduced(item_id_to_recommend_for)\n",
    "\n",
    "# Display the recommendations\n",
    "print(f\"Content-Based Recommendations (Reduced) for Item {item_id_to_recommend_for}:\")\n",
    "print(content_based_recommendations_reduced)"
   ]
  },
  {
   "cell_type": "code",
   "execution_count": 97,
   "metadata": {
    "scrolled": false
   },
   "outputs": [
    {
     "data": {
      "text/html": [
       "<div>\n",
       "<style scoped>\n",
       "    .dataframe tbody tr th:only-of-type {\n",
       "        vertical-align: middle;\n",
       "    }\n",
       "\n",
       "    .dataframe tbody tr th {\n",
       "        vertical-align: top;\n",
       "    }\n",
       "\n",
       "    .dataframe thead th {\n",
       "        text-align: right;\n",
       "    }\n",
       "</style>\n",
       "<table border=\"1\" class=\"dataframe\">\n",
       "  <thead>\n",
       "    <tr style=\"text-align: right;\">\n",
       "      <th></th>\n",
       "      <th>fit</th>\n",
       "      <th>user_id</th>\n",
       "      <th>bust_size</th>\n",
       "      <th>item_id</th>\n",
       "      <th>weight</th>\n",
       "      <th>rating</th>\n",
       "      <th>rented_for</th>\n",
       "      <th>review_text</th>\n",
       "      <th>body_type</th>\n",
       "      <th>review_summary</th>\n",
       "      <th>category</th>\n",
       "      <th>height</th>\n",
       "      <th>size</th>\n",
       "      <th>age</th>\n",
       "      <th>review_date</th>\n",
       "      <th>processed_review</th>\n",
       "      <th>sentiment_score</th>\n",
       "      <th>hybrid_rating</th>\n",
       "      <th>content</th>\n",
       "    </tr>\n",
       "  </thead>\n",
       "  <tbody>\n",
       "    <tr>\n",
       "      <th>173</th>\n",
       "      <td>large</td>\n",
       "      <td>863479</td>\n",
       "      <td>34c</td>\n",
       "      <td>1973037</td>\n",
       "      <td>125.0</td>\n",
       "      <td>4</td>\n",
       "      <td>formal affair</td>\n",
       "      <td>A little baggy in the bust (thus the \"runs lar...</td>\n",
       "      <td>athletic</td>\n",
       "      <td>Accentuates curves in right places</td>\n",
       "      <td>dress</td>\n",
       "      <td>172.72</td>\n",
       "      <td>8</td>\n",
       "      <td>42.0</td>\n",
       "      <td>September 20, 2017</td>\n",
       "      <td>[littl, baggi, bust, thu, run, larg, watch, ba...</td>\n",
       "      <td>0.285714</td>\n",
       "      <td>4.285714</td>\n",
       "      <td>Accentuates curves in right places dress athle...</td>\n",
       "    </tr>\n",
       "    <tr>\n",
       "      <th>4843</th>\n",
       "      <td>fit</td>\n",
       "      <td>473478</td>\n",
       "      <td>34d</td>\n",
       "      <td>1973037</td>\n",
       "      <td>128.0</td>\n",
       "      <td>5</td>\n",
       "      <td>wedding</td>\n",
       "      <td>dress was super very tight and definitely show...</td>\n",
       "      <td>full bust</td>\n",
       "      <td>dress fit amazing!</td>\n",
       "      <td>dress</td>\n",
       "      <td>165.10</td>\n",
       "      <td>8</td>\n",
       "      <td>28.0</td>\n",
       "      <td>June 23, 2015</td>\n",
       "      <td>[dress, super, tight, definit, show, curv, fit...</td>\n",
       "      <td>0.575000</td>\n",
       "      <td>5.575000</td>\n",
       "      <td>dress fit amazing! dress full bust wedding</td>\n",
       "    </tr>\n",
       "    <tr>\n",
       "      <th>7362</th>\n",
       "      <td>fit</td>\n",
       "      <td>412690</td>\n",
       "      <td>34b</td>\n",
       "      <td>1973037</td>\n",
       "      <td>127.0</td>\n",
       "      <td>5</td>\n",
       "      <td>wedding</td>\n",
       "      <td>This dress will suck you in and keep everythin...</td>\n",
       "      <td>hourglass</td>\n",
       "      <td>Loved the dress!</td>\n",
       "      <td>dress</td>\n",
       "      <td>162.56</td>\n",
       "      <td>8</td>\n",
       "      <td>30.0</td>\n",
       "      <td>November 1, 2015</td>\n",
       "      <td>[dress, suck, keep, everyth, place, undergar, ...</td>\n",
       "      <td>0.875000</td>\n",
       "      <td>5.875000</td>\n",
       "      <td>Loved the dress!  dress hourglass wedding</td>\n",
       "    </tr>\n",
       "    <tr>\n",
       "      <th>9020</th>\n",
       "      <td>small</td>\n",
       "      <td>123588</td>\n",
       "      <td>32c</td>\n",
       "      <td>1973037</td>\n",
       "      <td>110.0</td>\n",
       "      <td>4</td>\n",
       "      <td>wedding</td>\n",
       "      <td>This was a (major upgrade) replacement dress f...</td>\n",
       "      <td>petite</td>\n",
       "      <td>For a combination of sexy, whimsical, and deta...</td>\n",
       "      <td>dress</td>\n",
       "      <td>157.48</td>\n",
       "      <td>4</td>\n",
       "      <td>30.0</td>\n",
       "      <td>May 30, 2015</td>\n",
       "      <td>[major, upgrad, replac, dress, dress, origin, ...</td>\n",
       "      <td>0.000000</td>\n",
       "      <td>4.000000</td>\n",
       "      <td>For a combination of sexy, whimsical, and deta...</td>\n",
       "    </tr>\n",
       "    <tr>\n",
       "      <th>9947</th>\n",
       "      <td>fit</td>\n",
       "      <td>114276</td>\n",
       "      <td>34b</td>\n",
       "      <td>1973037</td>\n",
       "      <td>140.0</td>\n",
       "      <td>3</td>\n",
       "      <td>wedding</td>\n",
       "      <td>No surprise, this dress is very unforgiving.  ...</td>\n",
       "      <td>pear</td>\n",
       "      <td>Classy herve leger style</td>\n",
       "      <td>dress</td>\n",
       "      <td>172.72</td>\n",
       "      <td>14</td>\n",
       "      <td>34.0</td>\n",
       "      <td>April 20, 2015</td>\n",
       "      <td>[surpris, dress, unforgiv, thank, dark, color,...</td>\n",
       "      <td>0.100000</td>\n",
       "      <td>3.100000</td>\n",
       "      <td>Classy herve leger style dress pear wedding</td>\n",
       "    </tr>\n",
       "  </tbody>\n",
       "</table>\n",
       "</div>"
      ],
      "text/plain": [
       "        fit  user_id bust_size  item_id  weight  rating     rented_for  \\\n",
       "173   large   863479       34c  1973037   125.0       4  formal affair   \n",
       "4843    fit   473478       34d  1973037   128.0       5        wedding   \n",
       "7362    fit   412690       34b  1973037   127.0       5        wedding   \n",
       "9020  small   123588       32c  1973037   110.0       4        wedding   \n",
       "9947    fit   114276       34b  1973037   140.0       3        wedding   \n",
       "\n",
       "                                            review_text  body_type  \\\n",
       "173   A little baggy in the bust (thus the \"runs lar...   athletic   \n",
       "4843  dress was super very tight and definitely show...  full bust   \n",
       "7362  This dress will suck you in and keep everythin...  hourglass   \n",
       "9020  This was a (major upgrade) replacement dress f...     petite   \n",
       "9947  No surprise, this dress is very unforgiving.  ...       pear   \n",
       "\n",
       "                                         review_summary category  height  \\\n",
       "173                  Accentuates curves in right places    dress  172.72   \n",
       "4843                                 dress fit amazing!    dress  165.10   \n",
       "7362                                  Loved the dress!     dress  162.56   \n",
       "9020  For a combination of sexy, whimsical, and deta...    dress  157.48   \n",
       "9947                           Classy herve leger style    dress  172.72   \n",
       "\n",
       "      size   age         review_date  \\\n",
       "173      8  42.0  September 20, 2017   \n",
       "4843     8  28.0       June 23, 2015   \n",
       "7362     8  30.0    November 1, 2015   \n",
       "9020     4  30.0        May 30, 2015   \n",
       "9947    14  34.0      April 20, 2015   \n",
       "\n",
       "                                       processed_review  sentiment_score  \\\n",
       "173   [littl, baggi, bust, thu, run, larg, watch, ba...         0.285714   \n",
       "4843  [dress, super, tight, definit, show, curv, fit...         0.575000   \n",
       "7362  [dress, suck, keep, everyth, place, undergar, ...         0.875000   \n",
       "9020  [major, upgrad, replac, dress, dress, origin, ...         0.000000   \n",
       "9947  [surpris, dress, unforgiv, thank, dark, color,...         0.100000   \n",
       "\n",
       "      hybrid_rating                                            content  \n",
       "173        4.285714  Accentuates curves in right places dress athle...  \n",
       "4843       5.575000         dress fit amazing! dress full bust wedding  \n",
       "7362       5.875000          Loved the dress!  dress hourglass wedding  \n",
       "9020       4.000000  For a combination of sexy, whimsical, and deta...  \n",
       "9947       3.100000        Classy herve leger style dress pear wedding  "
      ]
     },
     "execution_count": 97,
     "metadata": {},
     "output_type": "execute_result"
    }
   ],
   "source": [
    "item_id_to_view = 1973037\n",
    "item_raw = df3[df3['item_id'] == item_id_to_view]\n",
    "item_raw.head()"
   ]
  },
  {
   "cell_type": "code",
   "execution_count": null,
   "metadata": {},
   "outputs": [],
   "source": []
  }
 ],
 "metadata": {
  "kernelspec": {
   "display_name": "Python 3",
   "language": "python",
   "name": "python3"
  },
  "language_info": {
   "codemirror_mode": {
    "name": "ipython",
    "version": 3
   },
   "file_extension": ".py",
   "mimetype": "text/x-python",
   "name": "python",
   "nbconvert_exporter": "python",
   "pygments_lexer": "ipython3",
   "version": "3.8.5"
  }
 },
 "nbformat": 4,
 "nbformat_minor": 4
}
